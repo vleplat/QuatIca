{
 "cells": [
  {
   "cell_type": "markdown",
   "id": "7b517612",
   "metadata": {},
   "source": [
    "# QuatIca Core Functionality Demo\n",
    "\n",
    "This notebook demonstrates all the core functionality examples from the README.\n",
    "Run each cell to see the code in action!"
   ]
  },
  {
   "cell_type": "markdown",
   "id": "369399f9",
   "metadata": {},
   "source": [
    "## Setup and Imports"
   ]
  },
  {
   "cell_type": "code",
   "execution_count": 188,
   "id": "1df2ce32",
   "metadata": {},
   "outputs": [],
   "source": [
    "import sys\n",
    "import os\n",
    "import numpy as np\n",
    "import quaternion\n",
    "import matplotlib.pyplot as plt"
   ]
  },
  {
   "cell_type": "code",
   "execution_count": 189,
   "id": "e8fd8988",
   "metadata": {},
   "outputs": [],
   "source": [
    "# Add the core module to the path\n",
    "sys.path.append('core')"
   ]
  },
  {
   "cell_type": "code",
   "execution_count": 190,
   "id": "ea3629eb",
   "metadata": {},
   "outputs": [
    {
     "name": "stdout",
     "output_type": "stream",
     "text": [
      "✅ All imports successful!\n"
     ]
    }
   ],
   "source": [
    "print(\"✅ All imports successful!\")"
   ]
  },
  {
   "cell_type": "markdown",
   "id": "466fe0d8",
   "metadata": {},
   "source": [
    "## 1. Basic Matrix Operations"
   ]
  },
  {
   "cell_type": "code",
   "execution_count": 191,
   "id": "078c82f6",
   "metadata": {},
   "outputs": [],
   "source": [
    "from core.utils import quat_matmat, quat_frobenius_norm\n",
    "from core.data_gen import create_test_matrix"
   ]
  },
  {
   "cell_type": "code",
   "execution_count": 192,
   "id": "7b93570c",
   "metadata": {},
   "outputs": [],
   "source": [
    "# Create test matrices\n",
    "A = create_test_matrix(3, 4)\n",
    "B = create_test_matrix(4, 2)"
   ]
  },
  {
   "cell_type": "code",
   "execution_count": 193,
   "id": "db9b8127",
   "metadata": {},
   "outputs": [
    {
     "name": "stdout",
     "output_type": "stream",
     "text": [
      "Matrix A shape: (3, 4)\n",
      "Matrix B shape: (4, 2)\n",
      "Matrix A norm: 24.891496883347077\n",
      "Matrix B norm: 11.901073409977059\n"
     ]
    }
   ],
   "source": [
    "print(\"Matrix A shape:\", A.shape)\n",
    "print(\"Matrix B shape:\", B.shape)\n",
    "print(\"Matrix A norm:\", quat_frobenius_norm(A))\n",
    "print(\"Matrix B norm:\", quat_frobenius_norm(B))"
   ]
  },
  {
   "cell_type": "code",
   "execution_count": 194,
   "id": "815ef9f3",
   "metadata": {},
   "outputs": [
    {
     "name": "stdout",
     "output_type": "stream",
     "text": [
      "Matrix C = A @ B shape: (3, 2)\n",
      "Matrix C norm: 113.61857302172129\n"
     ]
    }
   ],
   "source": [
    "# Matrix multiplication\n",
    "C = quat_matmat(A, B)\n",
    "print(\"Matrix C = A @ B shape:\", C.shape)\n",
    "print(\"Matrix C norm:\", quat_frobenius_norm(C))"
   ]
  },
  {
   "cell_type": "code",
   "execution_count": 195,
   "id": "d0c991c8",
   "metadata": {},
   "outputs": [
    {
     "name": "stdout",
     "output_type": "stream",
     "text": [
      "✅ Basic matrix operations work!\n"
     ]
    }
   ],
   "source": [
    "print(\"✅ Basic matrix operations work!\")"
   ]
  },
  {
   "cell_type": "markdown",
   "id": "ad5f95c7",
   "metadata": {},
   "source": [
    "## 2. QR Decomposition"
   ]
  },
  {
   "cell_type": "code",
   "execution_count": 196,
   "id": "5bf9bbfd",
   "metadata": {},
   "outputs": [],
   "source": [
    "from core.decomp.qsvd import qr_qua"
   ]
  },
  {
   "cell_type": "code",
   "execution_count": 197,
   "id": "0658d5b3",
   "metadata": {},
   "outputs": [
    {
     "name": "stdout",
     "output_type": "stream",
     "text": [
      "Input matrix X shape: (4, 3)\n"
     ]
    }
   ],
   "source": [
    "# Create a test matrix\n",
    "X_quat = create_test_matrix(4, 3)\n",
    "print(\"Input matrix X shape:\", X_quat.shape)"
   ]
  },
  {
   "cell_type": "code",
   "execution_count": 198,
   "id": "edfd7895",
   "metadata": {},
   "outputs": [
    {
     "name": "stdout",
     "output_type": "stream",
     "text": [
      "Q shape: (4, 3)\n",
      "R shape: (3, 3)\n"
     ]
    }
   ],
   "source": [
    "# QR decomposition\n",
    "Q, R = qr_qua(X_quat)\n",
    "print(\"Q shape:\", Q.shape)\n",
    "print(\"R shape:\", R.shape)"
   ]
  },
  {
   "cell_type": "code",
   "execution_count": 199,
   "id": "4b2851f5",
   "metadata": {},
   "outputs": [
    {
     "name": "stdout",
     "output_type": "stream",
     "text": [
      "Reconstruction error: 7.358529317783862e-15\n"
     ]
    }
   ],
   "source": [
    "# Verify reconstruction\n",
    "X_recon = quat_matmat(Q, R)\n",
    "reconstruction_error = quat_frobenius_norm(X_quat - X_recon)\n",
    "print(\"Reconstruction error:\", reconstruction_error)"
   ]
  },
  {
   "cell_type": "code",
   "execution_count": 200,
   "id": "d1d6d504",
   "metadata": {},
   "outputs": [
    {
     "name": "stdout",
     "output_type": "stream",
     "text": [
      "✅ QR decomposition works!\n"
     ]
    }
   ],
   "source": [
    "print(\"✅ QR decomposition works!\")"
   ]
  },
  {
   "cell_type": "markdown",
   "id": "55a392f4",
   "metadata": {},
   "source": [
    "## 3. Quaternion SVD (Q-SVD)"
   ]
  },
  {
   "cell_type": "code",
   "execution_count": 201,
   "id": "ea0aacaa",
   "metadata": {},
   "outputs": [],
   "source": [
    "from core.decomp.qsvd import classical_qsvd, classical_qsvd_full"
   ]
  },
  {
   "cell_type": "code",
   "execution_count": 202,
   "id": "f3acbe3f",
   "metadata": {},
   "outputs": [
    {
     "name": "stdout",
     "output_type": "stream",
     "text": [
      "Input matrix X shape: (5, 4)\n"
     ]
    }
   ],
   "source": [
    "# Create a test matrix\n",
    "X_quat = create_test_matrix(5, 4)\n",
    "print(\"Input matrix X shape:\", X_quat.shape)"
   ]
  },
  {
   "cell_type": "code",
   "execution_count": 203,
   "id": "76eb73d7",
   "metadata": {},
   "outputs": [
    {
     "name": "stdout",
     "output_type": "stream",
     "text": [
      "Truncated Q-SVD:\n",
      "  U shape: (5, 2)\n",
      "  s length: 2\n",
      "  V shape: (4, 2)\n"
     ]
    }
   ],
   "source": [
    "# Truncated Q-SVD\n",
    "R = 2  # Target rank\n",
    "U, s, V = classical_qsvd(X_quat, R)\n",
    "print(\"Truncated Q-SVD:\")\n",
    "print(\"  U shape:\", U.shape)\n",
    "print(\"  s length:\", len(s))\n",
    "print(\"  V shape:\", V.shape)"
   ]
  },
  {
   "cell_type": "code",
   "execution_count": 204,
   "id": "96c2e6fd",
   "metadata": {},
   "outputs": [
    {
     "name": "stdout",
     "output_type": "stream",
     "text": [
      "\n",
      "Full Q-SVD:\n",
      "  U_full shape: (5, 5)\n",
      "  s_full length: 4\n",
      "  V_full shape: (4, 4)\n"
     ]
    }
   ],
   "source": [
    "# Full Q-SVD\n",
    "U_full, s_full, V_full = classical_qsvd_full(X_quat)\n",
    "print(\"\\nFull Q-SVD:\")\n",
    "print(\"  U_full shape:\", U_full.shape)\n",
    "print(\"  s_full length:\", len(s_full))\n",
    "print(\"  V_full shape:\", V_full.shape)"
   ]
  },
  {
   "cell_type": "code",
   "execution_count": 205,
   "id": "13a6fcc4",
   "metadata": {},
   "outputs": [
    {
     "name": "stdout",
     "output_type": "stream",
     "text": [
      "✅ Q-SVD works!\n"
     ]
    }
   ],
   "source": [
    "print(\"✅ Q-SVD works!\")"
   ]
  },
  {
   "cell_type": "markdown",
   "id": "f504ff60",
   "metadata": {},
   "source": [
    "## 4. Randomized Q-SVD"
   ]
  },
  {
   "cell_type": "code",
   "execution_count": 206,
   "id": "b0caa65a",
   "metadata": {},
   "outputs": [],
   "source": [
    "from core.decomp.qsvd import rand_qsvd\n",
    "from core.utils import quat_hermitian"
   ]
  },
  {
   "cell_type": "code",
   "execution_count": 207,
   "id": "c5ca600a",
   "metadata": {},
   "outputs": [
    {
     "name": "stdout",
     "output_type": "stream",
     "text": [
      "Input matrix X shape: (8, 6)\n"
     ]
    }
   ],
   "source": [
    "# Create a test matrix\n",
    "X_quat = create_test_matrix(8, 6)\n",
    "print(\"Input matrix X shape:\", X_quat.shape)"
   ]
  },
  {
   "cell_type": "code",
   "execution_count": 208,
   "id": "0143d824",
   "metadata": {},
   "outputs": [
    {
     "name": "stdout",
     "output_type": "stream",
     "text": [
      "Target rank R = 3\n"
     ]
    }
   ],
   "source": [
    "# Randomized Q-SVD with different parameters\n",
    "R = 3  # Target rank\n",
    "print(f\"Target rank R = {R}\")"
   ]
  },
  {
   "cell_type": "code",
   "execution_count": 209,
   "id": "94908ffb",
   "metadata": {},
   "outputs": [
    {
     "name": "stdout",
     "output_type": "stream",
     "text": [
      "\n",
      "Testing with 1 power iteration(s):\n",
      "  U shape: (8, 3)\n",
      "  V shape: (6, 3)\n",
      "  s shape: (3,)\n",
      "  Singular values: [47.67301207 34.35275027 24.08512972]\n",
      "  Reconstruction error: 16.575596\n",
      "  Relative error: 0.252550\n",
      "\n",
      "Testing with 2 power iteration(s):\n",
      "  U shape: (8, 3)\n",
      "  V shape: (6, 3)\n",
      "  s shape: (3,)\n",
      "  Singular values: [47.67301207 34.35275027 24.08512972]\n",
      "  Reconstruction error: 16.575596\n",
      "  Relative error: 0.252550\n",
      "\n",
      "Testing with 3 power iteration(s):\n",
      "  U shape: (8, 3)\n",
      "  V shape: (6, 3)\n",
      "  s shape: (3,)\n",
      "  Singular values: [47.67301207 34.35275027 24.08512972]\n",
      "  Reconstruction error: 16.575596\n",
      "  Relative error: 0.252550\n"
     ]
    }
   ],
   "source": [
    "# Test with different power iterations\n",
    "for n_iter in [1, 2, 3]:\n",
    "    print(f\"\\nTesting with {n_iter} power iteration(s):\")\n",
    "    \n",
    "    U, s, V = rand_qsvd(X_quat, R, oversample=5, n_iter=n_iter)\n",
    "    print(f\"  U shape: {U.shape}\")\n",
    "    print(f\"  V shape: {V.shape}\")\n",
    "    print(f\"  s shape: {s.shape}\")\n",
    "    print(f\"  Singular values: {s}\")\n",
    "    \n",
    "    # Test reconstruction\n",
    "    S_diag = np.diag(s)\n",
    "    X_recon = quat_matmat(quat_matmat(U, S_diag), quat_hermitian(V))\n",
    "    reconstruction_error = quat_frobenius_norm(X_quat - X_recon)\n",
    "    relative_error = reconstruction_error / quat_frobenius_norm(X_quat)\n",
    "    print(f\"  Reconstruction error: {reconstruction_error:.6f}\")\n",
    "    print(f\"  Relative error: {relative_error:.6f}\")"
   ]
  },
  {
   "cell_type": "code",
   "execution_count": 210,
   "id": "873435f4",
   "metadata": {},
   "outputs": [
    {
     "name": "stdout",
     "output_type": "stream",
     "text": [
      "\n",
      "Testing with full rank (R = 6):\n",
      "  Full rank reconstruction error: 9.07e-14\n"
     ]
    }
   ],
   "source": [
    "# Test with full rank for perfect reconstruction\n",
    "print(f\"\\nTesting with full rank (R = {min(X_quat.shape)}):\")\n",
    "U_full, s_full, V_full = rand_qsvd(X_quat, min(X_quat.shape), oversample=5, n_iter=2)\n",
    "S_full_diag = np.diag(s_full)\n",
    "X_recon_full = quat_matmat(quat_matmat(U_full, S_full_diag), quat_hermitian(V_full))\n",
    "reconstruction_error_full = quat_frobenius_norm(X_quat - X_recon_full)\n",
    "print(f\"  Full rank reconstruction error: {reconstruction_error_full:.2e}\")"
   ]
  },
  {
   "cell_type": "code",
   "execution_count": 211,
   "id": "c69ea8eb",
   "metadata": {},
   "outputs": [
    {
     "name": "stdout",
     "output_type": "stream",
     "text": [
      "✅ Randomized Q-SVD works!\n"
     ]
    }
   ],
   "source": [
    "print(\"✅ Randomized Q-SVD works!\")"
   ]
  },
  {
   "cell_type": "markdown",
   "id": "69b42fd8",
   "metadata": {},
   "source": [
    "## 5. Eigenvalue Decomposition"
   ]
  },
  {
   "cell_type": "code",
   "execution_count": 212,
   "id": "9191d3a5",
   "metadata": {},
   "outputs": [],
   "source": [
    "from core.decomp import quaternion_eigendecomposition, quaternion_eigenvalues, quaternion_eigenvectors\n",
    "from core.utils import quat_hermitian"
   ]
  },
  {
   "cell_type": "code",
   "execution_count": 213,
   "id": "b7082e02",
   "metadata": {},
   "outputs": [
    {
     "name": "stdout",
     "output_type": "stream",
     "text": [
      "Hermitian matrix A shape: (3, 3)\n"
     ]
    }
   ],
   "source": [
    "# Create a Hermitian matrix A = B^H @ B\n",
    "B = create_test_matrix(4, 3)\n",
    "B_H = quat_hermitian(B)\n",
    "A_quat = quat_matmat(B_H, B)\n",
    "print(\"Hermitian matrix A shape:\", A_quat.shape)"
   ]
  },
  {
   "cell_type": "code",
   "execution_count": 214,
   "id": "4000b5be",
   "metadata": {},
   "outputs": [
    {
     "name": "stdout",
     "output_type": "stream",
     "text": [
      "Full eigendecomposition:\n",
      "  Number of eigenvalues: 3\n",
      "  Eigenvectors shape: (3, 3)\n"
     ]
    }
   ],
   "source": [
    "# Full eigendecomposition\n",
    "eigenvalues, eigenvectors = quaternion_eigendecomposition(A_quat)\n",
    "print(\"Full eigendecomposition:\")\n",
    "print(\"  Number of eigenvalues:\", len(eigenvalues))\n",
    "print(\"  Eigenvectors shape:\", eigenvectors.shape)"
   ]
  },
  {
   "cell_type": "code",
   "execution_count": 215,
   "id": "443732e5",
   "metadata": {},
   "outputs": [
    {
     "name": "stdout",
     "output_type": "stream",
     "text": [
      "\n",
      "Eigenvalues only: 3\n"
     ]
    }
   ],
   "source": [
    "# Extract only eigenvalues\n",
    "eigenvals = quaternion_eigenvalues(A_quat)\n",
    "print(\"\\nEigenvalues only:\", len(eigenvals))"
   ]
  },
  {
   "cell_type": "code",
   "execution_count": 216,
   "id": "b96b6ca9",
   "metadata": {},
   "outputs": [
    {
     "name": "stdout",
     "output_type": "stream",
     "text": [
      "Eigenvectors only shape: (3, 3)\n"
     ]
    }
   ],
   "source": [
    "# Extract only eigenvectors\n",
    "eigenvecs = quaternion_eigenvectors(A_quat)\n",
    "print(\"Eigenvectors only shape:\", eigenvecs.shape)"
   ]
  },
  {
   "cell_type": "code",
   "execution_count": 217,
   "id": "4e1247ea",
   "metadata": {},
   "outputs": [
    {
     "name": "stdout",
     "output_type": "stream",
     "text": [
      "Maximum imaginary part: 4.70197740328915e-38\n"
     ]
    }
   ],
   "source": [
    "# Verify eigenvalues are real\n",
    "imaginary_parts = np.imag(eigenvalues)\n",
    "max_imag = np.max(np.abs(imaginary_parts))\n",
    "print(\"Maximum imaginary part:\", max_imag)"
   ]
  },
  {
   "cell_type": "code",
   "execution_count": 218,
   "id": "96453374",
   "metadata": {},
   "outputs": [
    {
     "name": "stdout",
     "output_type": "stream",
     "text": [
      "✅ Eigenvalue decomposition works!\n"
     ]
    }
   ],
   "source": [
    "print(\"✅ Eigenvalue decomposition works!\")"
   ]
  },
  {
   "cell_type": "markdown",
   "metadata": {},
   "source": [
    "## 6. LU Decomposition"
   ]
  },
  {
   "cell_type": "code",
   "execution_count": 291,
   "metadata": {},
   "outputs": [
    {
     "name": "stdout",
     "output_type": "stream",
     "text": [
      "Matrix A shape: (600, 300)\n"
     ]
    }
   ],
   "source": [
    "from core.decomp import quaternion_lu, verify_lu_decomposition\n",
    "\n",
    "# Create a test matrix\n",
    "A = create_test_matrix(600, 300)\n",
    "print(\"Matrix A shape:\", A.shape)"
   ]
  },
  {
   "cell_type": "code",
   "execution_count": 292,
   "metadata": {},
   "outputs": [
    {
     "name": "stdout",
     "output_type": "stream",
     "text": [
      "LU decomposition:\n",
      "  L shape: (600, 300)\n",
      "  U shape: (300, 300)\n"
     ]
    }
   ],
   "source": [
    "# LU decomposition\n",
    "L, U = quaternion_lu(A)\n",
    "print(\"LU decomposition:\")\n",
    "print(\"  L shape:\", L.shape)\n",
    "print(\"  U shape:\", U.shape)"
   ]
  },
  {
   "cell_type": "code",
   "execution_count": 293,
   "metadata": {},
   "outputs": [
    {
     "name": "stdout",
     "output_type": "stream",
     "text": [
      "  Reconstruction error: 29541.06516660908\n",
      "  Relative error: 1.00460152538908\n"
     ]
    }
   ],
   "source": [
    "# Verify reconstruction\n",
    "LU = quat_matmat(L, U)\n",
    "reconstruction_error = quat_frobenius_norm(A - LU)\n",
    "relative_error = reconstruction_error / quat_frobenius_norm(A)\n",
    "print(\"  Reconstruction error:\", reconstruction_error)\n",
    "print(\"  Relative error:\", relative_error)"
   ]
  },
  {
   "cell_type": "code",
   "execution_count": 294,
   "metadata": {},
   "outputs": [
    {
     "ename": "ValueError",
     "evalue": "operands could not be broadcast together with shapes (300,) (600,) ",
     "output_type": "error",
     "traceback": [
      "\u001b[31m---------------------------------------------------------------------------\u001b[39m",
      "\u001b[31mValueError\u001b[39m                                Traceback (most recent call last)",
      "\u001b[36mCell\u001b[39m\u001b[36m \u001b[39m\u001b[32mIn[294]\u001b[39m\u001b[32m, line 5\u001b[39m\n\u001b[32m      3\u001b[39m L_real = L_float[:, :, \u001b[32m0\u001b[39m]  \u001b[38;5;66;03m# Real part\u001b[39;00m\n\u001b[32m      4\u001b[39m is_lower_triangular = np.allclose(L_real, np.tril(L_real), atol=\u001b[32m1e-12\u001b[39m)\n\u001b[32m----> \u001b[39m\u001b[32m5\u001b[39m has_unit_diagonal = \u001b[43mnp\u001b[49m\u001b[43m.\u001b[49m\u001b[43mallclose\u001b[49m\u001b[43m(\u001b[49m\u001b[43mnp\u001b[49m\u001b[43m.\u001b[49m\u001b[43mdiag\u001b[49m\u001b[43m(\u001b[49m\u001b[43mL_real\u001b[49m\u001b[43m)\u001b[49m\u001b[43m,\u001b[49m\u001b[43m \u001b[49m\u001b[43mnp\u001b[49m\u001b[43m.\u001b[49m\u001b[43mones\u001b[49m\u001b[43m(\u001b[49m\u001b[43mL\u001b[49m\u001b[43m.\u001b[49m\u001b[43mshape\u001b[49m\u001b[43m[\u001b[49m\u001b[32;43m0\u001b[39;49m\u001b[43m]\u001b[49m\u001b[43m)\u001b[49m\u001b[43m,\u001b[49m\u001b[43m \u001b[49m\u001b[43matol\u001b[49m\u001b[43m=\u001b[49m\u001b[32;43m1e-12\u001b[39;49m\u001b[43m)\u001b[49m\n\u001b[32m      6\u001b[39m \u001b[38;5;28mprint\u001b[39m(\u001b[33m\"\u001b[39m\u001b[33m  L is lower triangular:\u001b[39m\u001b[33m\"\u001b[39m, is_lower_triangular)\n\u001b[32m      7\u001b[39m \u001b[38;5;28mprint\u001b[39m(\u001b[33m\"\u001b[39m\u001b[33m  L has unit diagonal:\u001b[39m\u001b[33m\"\u001b[39m, has_unit_diagonal)\n",
      "\u001b[36mFile \u001b[39m\u001b[32m~/Documents/Python_playground/QuatIca/venv/lib/python3.13/site-packages/numpy/_core/numeric.py:2365\u001b[39m, in \u001b[36mallclose\u001b[39m\u001b[34m(a, b, rtol, atol, equal_nan)\u001b[39m\n\u001b[32m   2279\u001b[39m \u001b[38;5;129m@array_function_dispatch\u001b[39m(_allclose_dispatcher)\n\u001b[32m   2280\u001b[39m \u001b[38;5;28;01mdef\u001b[39;00m\u001b[38;5;250m \u001b[39m\u001b[34mallclose\u001b[39m(a, b, rtol=\u001b[32m1.e-5\u001b[39m, atol=\u001b[32m1.e-8\u001b[39m, equal_nan=\u001b[38;5;28;01mFalse\u001b[39;00m):\n\u001b[32m   2281\u001b[39m \u001b[38;5;250m    \u001b[39m\u001b[33;03m\"\"\"\u001b[39;00m\n\u001b[32m   2282\u001b[39m \u001b[33;03m    Returns True if two arrays are element-wise equal within a tolerance.\u001b[39;00m\n\u001b[32m   2283\u001b[39m \n\u001b[32m   (...)\u001b[39m\u001b[32m   2363\u001b[39m \n\u001b[32m   2364\u001b[39m \u001b[33;03m    \"\"\"\u001b[39;00m\n\u001b[32m-> \u001b[39m\u001b[32m2365\u001b[39m     res = \u001b[38;5;28mall\u001b[39m(\u001b[43misclose\u001b[49m\u001b[43m(\u001b[49m\u001b[43ma\u001b[49m\u001b[43m,\u001b[49m\u001b[43m \u001b[49m\u001b[43mb\u001b[49m\u001b[43m,\u001b[49m\u001b[43m \u001b[49m\u001b[43mrtol\u001b[49m\u001b[43m=\u001b[49m\u001b[43mrtol\u001b[49m\u001b[43m,\u001b[49m\u001b[43m \u001b[49m\u001b[43matol\u001b[49m\u001b[43m=\u001b[49m\u001b[43matol\u001b[49m\u001b[43m,\u001b[49m\u001b[43m \u001b[49m\u001b[43mequal_nan\u001b[49m\u001b[43m=\u001b[49m\u001b[43mequal_nan\u001b[49m\u001b[43m)\u001b[49m)\n\u001b[32m   2366\u001b[39m     \u001b[38;5;28;01mreturn\u001b[39;00m builtins.bool(res)\n",
      "\u001b[36mFile \u001b[39m\u001b[32m~/Documents/Python_playground/QuatIca/venv/lib/python3.13/site-packages/numpy/_core/numeric.py:2496\u001b[39m, in \u001b[36misclose\u001b[39m\u001b[34m(a, b, rtol, atol, equal_nan)\u001b[39m\n\u001b[32m   2492\u001b[39m         \u001b[38;5;28mprint\u001b[39m(err_msg)\n\u001b[32m   2494\u001b[39m \u001b[38;5;28;01mwith\u001b[39;00m errstate(invalid=\u001b[33m'\u001b[39m\u001b[33mignore\u001b[39m\u001b[33m'\u001b[39m):\n\u001b[32m-> \u001b[39m\u001b[32m2496\u001b[39m     result = (less_equal(\u001b[38;5;28mabs\u001b[39m(\u001b[43mx\u001b[49m\u001b[43m \u001b[49m\u001b[43m-\u001b[49m\u001b[43m \u001b[49m\u001b[43my\u001b[49m), atol + rtol * \u001b[38;5;28mabs\u001b[39m(y))\n\u001b[32m   2497\u001b[39m               & isfinite(y)\n\u001b[32m   2498\u001b[39m               | (x == y))\n\u001b[32m   2499\u001b[39m     \u001b[38;5;28;01mif\u001b[39;00m equal_nan:\n\u001b[32m   2500\u001b[39m         result |= isnan(x) & isnan(y)\n",
      "\u001b[31mValueError\u001b[39m: operands could not be broadcast together with shapes (300,) (600,) "
     ]
    }
   ],
   "source": [
    "# Verify L is lower triangular with unit diagonal\n",
    "L_float = quaternion.as_float_array(L)\n",
    "L_real = L_float[:, :, 0]  # Real part\n",
    "is_lower_triangular = np.allclose(L_real, np.tril(L_real), atol=1e-12)\n",
    "has_unit_diagonal = np.allclose(np.diag(L_real), np.ones(L.shape[0]), atol=1e-12)\n",
    "print(\"  L is lower triangular:\", is_lower_triangular)\n",
    "print(\"  L has unit diagonal:\", has_unit_diagonal)\n",
    "\n",
    "# Verify U is upper triangular\n",
    "U_float = quaternion.as_float_array(U)\n",
    "U_real = U_float[:, :, 0]  # Real part\n",
    "is_upper_triangular = np.allclose(U_real, np.triu(U_real), atol=1e-12)\n",
    "print(\"  U is upper triangular:\", is_upper_triangular)"
   ]
  },
  {
   "cell_type": "code",
   "execution_count": 295,
   "metadata": {},
   "outputs": [
    {
     "name": "stdout",
     "output_type": "stream",
     "text": [
      "\n",
      "With permutation matrix:\n",
      "  P shape: (600, 600)\n",
      "  P*A = L*U error: 2.6082974739823045e-10\n",
      "✅ LU decomposition works!\n"
     ]
    }
   ],
   "source": [
    "# Test with permutation matrix\n",
    "L_p, U_p, P = quaternion_lu(A, return_p=True)\n",
    "print(\"\\nWith permutation matrix:\")\n",
    "print(\"  P shape:\", P.shape)\n",
    "PA = quat_matmat(P, A)\n",
    "LU_p = quat_matmat(L_p, U_p)\n",
    "permutation_error = quat_frobenius_norm(PA - LU_p)\n",
    "print(\"  P*A = L*U error:\", permutation_error)\n",
    "\n",
    "print(\"✅ LU decomposition works!\")"
   ]
  },
  {
   "cell_type": "markdown",
   "id": "dc70ab90",
   "metadata": {},
   "source": [
    "## 7. Tridiagonalization"
   ]
  },
  {
   "cell_type": "code",
   "execution_count": 224,
   "id": "a346d557",
   "metadata": {},
   "outputs": [],
   "source": [
    "from core.decomp import tridiagonalize"
   ]
  },
  {
   "cell_type": "code",
   "execution_count": 225,
   "id": "c06016d2",
   "metadata": {},
   "outputs": [
    {
     "name": "stdout",
     "output_type": "stream",
     "text": [
      "Hermitian matrix A shape: (3, 3)\n"
     ]
    }
   ],
   "source": [
    "# Use the same Hermitian matrix from above\n",
    "print(\"Hermitian matrix A shape:\", A_quat.shape)"
   ]
  },
  {
   "cell_type": "code",
   "execution_count": 226,
   "id": "9c27d8b0",
   "metadata": {},
   "outputs": [
    {
     "name": "stdout",
     "output_type": "stream",
     "text": [
      "Tridiagonalization:\n",
      "  P shape: (3, 3)\n",
      "  B shape: (3, 3)\n"
     ]
    }
   ],
   "source": [
    "# Tridiagonalize\n",
    "P, B_tridiag = tridiagonalize(A_quat)\n",
    "print(\"Tridiagonalization:\")\n",
    "print(\"  P shape:\", P.shape)\n",
    "print(\"  B shape:\", B_tridiag.shape)"
   ]
  },
  {
   "cell_type": "code",
   "execution_count": 227,
   "id": "cc24d18a",
   "metadata": {},
   "outputs": [
    {
     "name": "stdout",
     "output_type": "stream",
     "text": [
      "  Transformation error: 3.7224107511405925e-14\n"
     ]
    }
   ],
   "source": [
    "# Verify transformation\n",
    "P_H = quat_hermitian(P)\n",
    "PAP_H = quat_matmat(quat_matmat(P, A_quat), P_H)\n",
    "transformation_error = quat_frobenius_norm(PAP_H - B_tridiag)\n",
    "print(\"  Transformation error:\", transformation_error)"
   ]
  },
  {
   "cell_type": "code",
   "execution_count": 228,
   "id": "c1a278b9",
   "metadata": {},
   "outputs": [
    {
     "name": "stdout",
     "output_type": "stream",
     "text": [
      "✅ Tridiagonalization works!\n"
     ]
    }
   ],
   "source": [
    "print(\"✅ Tridiagonalization works!\")"
   ]
  },
  {
   "cell_type": "markdown",
   "id": "f86955b9",
   "metadata": {},
   "source": [
    "## 8. Pseudoinverse Computation"
   ]
  },
  {
   "cell_type": "code",
   "execution_count": 229,
   "id": "1dfe29e1",
   "metadata": {},
   "outputs": [],
   "source": [
    "from core.solver import NewtonSchulzPseudoinverse"
   ]
  },
  {
   "cell_type": "code",
   "execution_count": 230,
   "id": "bba597a6",
   "metadata": {},
   "outputs": [
    {
     "name": "stdout",
     "output_type": "stream",
     "text": [
      "Matrix A shape: (3, 4)\n"
     ]
    }
   ],
   "source": [
    "# Create a test matrix\n",
    "A = create_test_matrix(3, 4)\n",
    "print(\"Matrix A shape:\", A.shape)"
   ]
  },
  {
   "cell_type": "code",
   "execution_count": 231,
   "id": "f5129319",
   "metadata": {},
   "outputs": [
    {
     "name": "stdout",
     "output_type": "stream",
     "text": [
      "Pseudoinverse A^† shape: (4, 3)\n"
     ]
    }
   ],
   "source": [
    "# Compute pseudoinverse\n",
    "solver = NewtonSchulzPseudoinverse()\n",
    "A_pinv, residuals, covariances = solver.compute(A)\n",
    "print(\"Pseudoinverse A^† shape:\", A_pinv.shape)"
   ]
  },
  {
   "cell_type": "code",
   "execution_count": 232,
   "id": "83e3999d",
   "metadata": {},
   "outputs": [
    {
     "name": "stdout",
     "output_type": "stream",
     "text": [
      "A^† shape: (4, 3)\n",
      "A^†^† shape: (3, 4)\n"
     ]
    }
   ],
   "source": [
    "# Verify pseudoinverse properties\n",
    "A_pinv_H = quat_hermitian(A_pinv)\n",
    "print(\"A^† shape:\", A_pinv.shape)\n",
    "print(\"A^†^† shape:\", A_pinv_H.shape)"
   ]
  },
  {
   "cell_type": "code",
   "execution_count": 233,
   "id": "13cdceff",
   "metadata": {},
   "outputs": [
    {
     "name": "stdout",
     "output_type": "stream",
     "text": [
      "✅ Pseudoinverse computation works!\n"
     ]
    }
   ],
   "source": [
    "print(\"✅ Pseudoinverse computation works!\")"
   ]
  },
  {
   "cell_type": "markdown",
   "id": "8a723133",
   "metadata": {},
   "source": [
    "## 9. Linear System Solving"
   ]
  },
  {
   "cell_type": "code",
   "execution_count": 234,
   "id": "fb02ede9",
   "metadata": {},
   "outputs": [],
   "source": [
    "from core.solver import QGMRESSolver"
   ]
  },
  {
   "cell_type": "code",
   "execution_count": 235,
   "id": "e7e90e2a",
   "metadata": {},
   "outputs": [
    {
     "name": "stdout",
     "output_type": "stream",
     "text": [
      "System A shape: (3, 3)\n",
      "Right-hand side b shape: (3, 1)\n"
     ]
    }
   ],
   "source": [
    "# Create a square system A * x = b\n",
    "A = create_test_matrix(3, 3)\n",
    "b = create_test_matrix(3, 1)\n",
    "print(\"System A shape:\", A.shape)\n",
    "print(\"Right-hand side b shape:\", b.shape)"
   ]
  },
  {
   "cell_type": "code",
   "execution_count": 236,
   "id": "70b6919e",
   "metadata": {},
   "outputs": [
    {
     "name": "stdout",
     "output_type": "stream",
     "text": [
      "Solution x shape: (3, 1)\n",
      "Convergence info: {'iterations': 3, 'residual': np.float64(5.372497691174968e-16), 'residual_history': [[1, np.float64(0.7810582564713204), np.float64(0.7810582564713204)], [2, np.float64(0.33409355582401984), np.float64(0.2609465302102133)], [3, np.float64(2.3913302526878452e-15), np.float64(5.372497691174968e-16)]], 'converged': np.True_, 'V0': array([[ 0.27012276, -0.25239291, -0.11363228],\n",
      "       [ 0.45795908,  0.05502564, -0.35597686],\n",
      "       [-0.13657168,  0.48357578, -0.09770765]]), 'V1': array([[-0.10459807, -0.0444093 , -0.39411852],\n",
      "       [ 0.38746001, -0.42336599,  0.17520659],\n",
      "       [-0.36803261, -0.35441121,  0.1140278 ]]), 'V2': array([[-0.01518993, -0.32421983, -0.09069236],\n",
      "       [-0.23339736, -0.04647211,  0.37189488],\n",
      "       [-0.27733307,  0.15352721, -0.22278151]]), 'V3': array([[ 0.25071172,  0.23697348,  0.67051453],\n",
      "       [ 0.21671687, -0.23314855, -0.06481156],\n",
      "       [ 0.40087414,  0.38889945, -0.04288961]])}\n"
     ]
    }
   ],
   "source": [
    "# Solve using Q-GMRES\n",
    "solver = QGMRESSolver()\n",
    "x, info = solver.solve(A, b)\n",
    "print(\"Solution x shape:\", x.shape)\n",
    "print(\"Convergence info:\", info)"
   ]
  },
  {
   "cell_type": "code",
   "execution_count": 237,
   "id": "d9045204",
   "metadata": {},
   "outputs": [
    {
     "name": "stdout",
     "output_type": "stream",
     "text": [
      "Residual ||A*x - b||: 2.5631488888267375e-15\n"
     ]
    }
   ],
   "source": [
    "# Verify solution\n",
    "Ax = quat_matmat(A, x)\n",
    "residual = quat_frobenius_norm(Ax - b)\n",
    "print(\"Residual ||A*x - b||:\", residual)"
   ]
  },
  {
   "cell_type": "code",
   "execution_count": 238,
   "id": "a56f20dc",
   "metadata": {},
   "outputs": [
    {
     "name": "stdout",
     "output_type": "stream",
     "text": [
      "✅ Linear system solving works!\n"
     ]
    }
   ],
   "source": [
    "print(\"✅ Linear system solving works!\")"
   ]
  },
  {
   "cell_type": "markdown",
   "id": "933028a8",
   "metadata": {},
   "source": [
    "## 10. Visualization"
   ]
  },
  {
   "cell_type": "code",
   "execution_count": 239,
   "id": "f63a66dd",
   "metadata": {},
   "outputs": [],
   "source": [
    "from core.visualization import Visualizer"
   ]
  },
  {
   "cell_type": "code",
   "execution_count": 240,
   "id": "4e421710",
   "metadata": {},
   "outputs": [
    {
     "name": "stdout",
     "output_type": "stream",
     "text": [
      "Matrix A shape: (4, 4)\n"
     ]
    }
   ],
   "source": [
    "# Create a test matrix\n",
    "A = create_test_matrix(4, 4)\n",
    "print(\"Matrix A shape:\", A.shape)"
   ]
  },
  {
   "cell_type": "code",
   "execution_count": 241,
   "id": "aae3be70",
   "metadata": {},
   "outputs": [
    {
     "data": {
      "image/png": "[encoded data removed]",
      "text/plain": [
       "<Figure size 500x500 with 2 Axes>"
      ]
     },
     "metadata": {},
     "output_type": "display_data"
    },
    {
     "data": {
      "image/png": "[encoded data removed]",
      "text/plain": [
       "<Figure size 500x500 with 2 Axes>"
      ]
     },
     "metadata": {},
     "output_type": "display_data"
    }
   ],
   "source": [
    "# Plot matrix components\n",
    "Visualizer.visualize_matrix(A, component=0, title=\"Test Matrix - Real Component\")\n",
    "Visualizer.visualize_matrix(A, component=1, title=\"Test Matrix - i Component\")"
   ]
  },
  {
   "cell_type": "code",
   "execution_count": 242,
   "id": "9fc6cb7f",
   "metadata": {},
   "outputs": [
    {
     "name": "stdout",
     "output_type": "stream",
     "text": [
      "✅ Visualization works!\n"
     ]
    }
   ],
   "source": [
    "print(\"✅ Visualization works!\")"
   ]
  },
  {
   "cell_type": "markdown",
   "id": "c2c9e225",
   "metadata": {},
   "source": [
    "## 11. Determinant and Rank Computation"
   ]
  },
  {
   "cell_type": "code",
   "execution_count": 243,
   "id": "9b21e529",
   "metadata": {},
   "outputs": [],
   "source": [
    "from core.utils import det, rank\n",
    "from core.data_gen import generate_random_unitary_matrix"
   ]
  },
  {
   "cell_type": "code",
   "execution_count": 244,
   "id": "6389491a",
   "metadata": {},
   "outputs": [
    {
     "name": "stdout",
     "output_type": "stream",
     "text": [
      "\n",
      "============================================================\n",
      "DETERMINANT AND RANK COMPUTATION DEMONSTRATIONS\n",
      "============================================================\n"
     ]
    }
   ],
   "source": [
    "print(\"\\n\" + \"=\"*60)\n",
    "print(\"DETERMINANT AND RANK COMPUTATION DEMONSTRATIONS\")\n",
    "print(\"=\"*60)"
   ]
  },
  {
   "cell_type": "markdown",
   "id": "e3d97483",
   "metadata": {},
   "source": [
    "### 10.1 Determinant Demo: Unitary Matrix with Known Determinant"
   ]
  },
  {
   "cell_type": "code",
   "execution_count": 245,
   "id": "a3e18032",
   "metadata": {},
   "outputs": [
    {
     "name": "stdout",
     "output_type": "stream",
     "text": [
      "\n",
      "--- Determinant Demo: Unitary Matrix ---\n"
     ]
    }
   ],
   "source": [
    "print(\"\\n--- Determinant Demo: Unitary Matrix ---\")"
   ]
  },
  {
   "cell_type": "code",
   "execution_count": 246,
   "id": "c993983c",
   "metadata": {},
   "outputs": [
    {
     "name": "stdout",
     "output_type": "stream",
     "text": [
      "Generated unitary matrix U of size 4×4\n"
     ]
    }
   ],
   "source": [
    "# Generate a random unitary matrix (determinant should be 1)\n",
    "n = 4\n",
    "U = generate_random_unitary_matrix(n)\n",
    "print(f\"Generated unitary matrix U of size {n}×{n}\")"
   ]
  },
  {
   "cell_type": "code",
   "execution_count": 247,
   "id": "60870215",
   "metadata": {},
   "outputs": [
    {
     "name": "stdout",
     "output_type": "stream",
     "text": [
      "Dieudonné determinant: 1.000000\n"
     ]
    }
   ],
   "source": [
    "# Compute Dieudonné determinant\n",
    "det_dieudonne = det(U, 'Dieudonne')\n",
    "print(f\"Dieudonné determinant: {det_dieudonne:.6f}\")"
   ]
  },
  {
   "cell_type": "code",
   "execution_count": 248,
   "id": "d43f37f3",
   "metadata": {},
   "outputs": [
    {
     "name": "stdout",
     "output_type": "stream",
     "text": [
      "Expected determinant: 1.0\n",
      "Absolute error: 2.22e-16\n"
     ]
    }
   ],
   "source": [
    "# Expected determinant for unitary matrix should be close to 1\n",
    "expected_det = 1.0\n",
    "error = abs(det_dieudonne - expected_det)\n",
    "print(f\"Expected determinant: {expected_det}\")\n",
    "print(f\"Absolute error: {error:.2e}\")"
   ]
  },
  {
   "cell_type": "code",
   "execution_count": 249,
   "id": "1e076fcf",
   "metadata": {},
   "outputs": [
    {
     "name": "stdout",
     "output_type": "stream",
     "text": [
      "✅ Determinant computation works correctly!\n"
     ]
    }
   ],
   "source": [
    "if error < 1e-10:\n",
    "    print(\"✅ Determinant computation works correctly!\")\n",
    "else:\n",
    "    print(\"❌ Determinant computation has issues!\")"
   ]
  },
  {
   "cell_type": "markdown",
   "id": "1b5bb50e",
   "metadata": {},
   "source": [
    "### 10.2 Rank Demo: Matrix Product with Known Rank"
   ]
  },
  {
   "cell_type": "code",
   "execution_count": 250,
   "id": "cd115d34",
   "metadata": {},
   "outputs": [
    {
     "name": "stdout",
     "output_type": "stream",
     "text": [
      "\n",
      "--- Rank Demo: Matrix Product ---\n"
     ]
    }
   ],
   "source": [
    "print(\"\\n--- Rank Demo: Matrix Product ---\")"
   ]
  },
  {
   "cell_type": "code",
   "execution_count": 251,
   "id": "78f0548c",
   "metadata": {},
   "outputs": [
    {
     "name": "stdout",
     "output_type": "stream",
     "text": [
      "Matrix A: 5×3\n",
      "Matrix B: 3×4\n"
     ]
    }
   ],
   "source": [
    "# Create matrices A (m×r) and B (r×n) with known rank r\n",
    "m, r, n = 5, 3, 4\n",
    "A = create_test_matrix(m, r)\n",
    "B = create_test_matrix(r, n)\n",
    "print(f\"Matrix A: {m}×{r}\")\n",
    "print(f\"Matrix B: {r}×{n}\")"
   ]
  },
  {
   "cell_type": "code",
   "execution_count": 252,
   "id": "d1511f06",
   "metadata": {},
   "outputs": [
    {
     "name": "stdout",
     "output_type": "stream",
     "text": [
      "Matrix C = A @ B: (5, 4)\n"
     ]
    }
   ],
   "source": [
    "# Compute product C = A @ B\n",
    "C = quat_matmat(A, B)\n",
    "print(f\"Matrix C = A @ B: {C.shape}\")"
   ]
  },
  {
   "cell_type": "code",
   "execution_count": 253,
   "id": "3cb21d63",
   "metadata": {},
   "outputs": [
    {
     "name": "stdout",
     "output_type": "stream",
     "text": [
      "Computed rank of C: 3\n",
      "Expected rank: 3\n"
     ]
    }
   ],
   "source": [
    "# Compute rank of C\n",
    "computed_rank = rank(C)\n",
    "expected_rank = r\n",
    "print(f\"Computed rank of C: {computed_rank}\")\n",
    "print(f\"Expected rank: {expected_rank}\")"
   ]
  },
  {
   "cell_type": "code",
   "execution_count": 254,
   "id": "714f879e",
   "metadata": {},
   "outputs": [
    {
     "name": "stdout",
     "output_type": "stream",
     "text": [
      "✅ Rank computation works correctly!\n"
     ]
    }
   ],
   "source": [
    "if computed_rank == expected_rank:\n",
    "    print(\"✅ Rank computation works correctly!\")\n",
    "else:\n",
    "    print(\"❌ Rank computation has issues!\")"
   ]
  },
  {
   "cell_type": "markdown",
   "id": "c79f1ee6",
   "metadata": {},
   "source": [
    "### 10.3 Additional Rank Examples"
   ]
  },
  {
   "cell_type": "code",
   "execution_count": 255,
   "id": "7a13a6fa",
   "metadata": {},
   "outputs": [
    {
     "name": "stdout",
     "output_type": "stream",
     "text": [
      "\n",
      "--- Additional Rank Examples ---\n"
     ]
    }
   ],
   "source": [
    "print(\"\\n--- Additional Rank Examples ---\")"
   ]
  },
  {
   "cell_type": "code",
   "execution_count": 256,
   "id": "f05e83b6",
   "metadata": {},
   "outputs": [
    {
     "name": "stdout",
     "output_type": "stream",
     "text": [
      "Full-rank 4×4 matrix: rank = 4 (expected: 4)\n"
     ]
    }
   ],
   "source": [
    "# Test full-rank matrix\n",
    "full_rank_matrix = create_test_matrix(4, 4)\n",
    "full_rank = rank(full_rank_matrix)\n",
    "print(f\"Full-rank 4×4 matrix: rank = {full_rank} (expected: 4)\")"
   ]
  },
  {
   "cell_type": "code",
   "execution_count": 257,
   "id": "8cd7a83a",
   "metadata": {},
   "outputs": [
    {
     "name": "stdout",
     "output_type": "stream",
     "text": [
      "Zero 3×3 matrix: rank = 0 (expected: 0)\n"
     ]
    }
   ],
   "source": [
    "# Test zero matrix\n",
    "zero_matrix = np.zeros((3, 3), dtype=np.quaternion)\n",
    "zero_rank = rank(zero_matrix)\n",
    "print(f\"Zero 3×3 matrix: rank = {zero_rank} (expected: 0)\")"
   ]
  },
  {
   "cell_type": "code",
   "execution_count": 258,
   "id": "d4d410d9",
   "metadata": {},
   "outputs": [
    {
     "name": "stdout",
     "output_type": "stream",
     "text": [
      "Identity 5×5 matrix: rank = 5 (expected: 5)\n"
     ]
    }
   ],
   "source": [
    "# Test identity matrix\n",
    "identity_matrix = np.eye(5, dtype=np.quaternion)\n",
    "identity_rank = rank(identity_matrix)\n",
    "print(f\"Identity 5×5 matrix: rank = {identity_rank} (expected: 5)\")"
   ]
  },
  {
   "cell_type": "code",
   "execution_count": 259,
   "id": "cc2bec51",
   "metadata": {},
   "outputs": [
    {
     "name": "stdout",
     "output_type": "stream",
     "text": [
      "✅ All rank examples work correctly!\n"
     ]
    }
   ],
   "source": [
    "print(\"✅ All rank examples work correctly!\")"
   ]
  },
  {
   "cell_type": "markdown",
   "id": "df9d90b7",
   "metadata": {},
   "source": [
    "## 12. Power Iteration for Dominant Eigenvector"
   ]
  },
  {
   "cell_type": "code",
   "execution_count": 260,
   "id": "4f136b85",
   "metadata": {},
   "outputs": [],
   "source": [
    "from core.utils import power_iteration\n",
    "from core.decomp.eigen import quaternion_eigendecomposition"
   ]
  },
  {
   "cell_type": "code",
   "execution_count": 261,
   "id": "8dcd72d7",
   "metadata": {},
   "outputs": [
    {
     "name": "stdout",
     "output_type": "stream",
     "text": [
      "\n",
      "============================================================\n",
      "POWER ITERATION FOR DOMINANT EIGENVECTOR\n",
      "============================================================\n"
     ]
    }
   ],
   "source": [
    "print(\"\\n\" + \"=\"*60)\n",
    "print(\"POWER ITERATION FOR DOMINANT EIGENVECTOR\")\n",
    "print(\"=\"*60)"
   ]
  },
  {
   "cell_type": "markdown",
   "id": "a96a3a0e",
   "metadata": {},
   "source": [
    "### 11.1 Power Iteration Demo: Comparison with Eigendecomposition"
   ]
  },
  {
   "cell_type": "code",
   "execution_count": 262,
   "id": "a4d63d0c",
   "metadata": {},
   "outputs": [
    {
     "name": "stdout",
     "output_type": "stream",
     "text": [
      "\n",
      "--- Power Iteration vs Eigendecomposition ---\n"
     ]
    }
   ],
   "source": [
    "print(\"\\n--- Power Iteration vs Eigendecomposition ---\")"
   ]
  },
  {
   "cell_type": "code",
   "execution_count": 263,
   "id": "9d93c133",
   "metadata": {},
   "outputs": [
    {
     "name": "stdout",
     "output_type": "stream",
     "text": [
      "Created Hermitian matrix A of size (5, 5)\n"
     ]
    }
   ],
   "source": [
    "# Create Hermitian matrix: A = B^H @ B (positive definite)\n",
    "B = create_test_matrix(5, 5)\n",
    "A = quat_matmat(quat_hermitian(B), B)\n",
    "print(f\"Created Hermitian matrix A of size {A.shape}\")"
   ]
  },
  {
   "cell_type": "code",
   "execution_count": 264,
   "id": "eaf097f0",
   "metadata": {},
   "outputs": [
    {
     "name": "stdout",
     "output_type": "stream",
     "text": [
      "\n",
      "Running power iteration...\n",
      "Iteration 0: norm_diff = 7.64e-01\n",
      "Iteration 1: norm_diff = 1.69e-01\n",
      "Iteration 2: norm_diff = 7.13e-02\n",
      "Iteration 3: norm_diff = 3.16e-02\n",
      "Iteration 4: norm_diff = 1.40e-02\n",
      "Iteration 5: norm_diff = 6.24e-03\n",
      "Iteration 6: norm_diff = 2.77e-03\n",
      "Iteration 7: norm_diff = 1.23e-03\n",
      "Iteration 8: norm_diff = 5.46e-04\n",
      "Iteration 9: norm_diff = 2.42e-04\n",
      "Iteration 10: norm_diff = 1.08e-04\n",
      "Iteration 11: norm_diff = 4.77e-05\n",
      "Iteration 12: norm_diff = 2.12e-05\n",
      "Iteration 13: norm_diff = 9.41e-06\n",
      "Iteration 14: norm_diff = 4.18e-06\n",
      "Iteration 15: norm_diff = 1.85e-06\n",
      "Iteration 16: norm_diff = 8.24e-07\n",
      "Iteration 17: norm_diff = 3.66e-07\n",
      "Iteration 18: norm_diff = 1.62e-07\n",
      "Iteration 19: norm_diff = 7.21e-08\n",
      "Iteration 20: norm_diff = 3.20e-08\n",
      "Iteration 21: norm_diff = 1.42e-08\n",
      "Iteration 22: norm_diff = 6.31e-09\n",
      "Iteration 23: norm_diff = 2.80e-09\n",
      "Iteration 24: norm_diff = 1.24e-09\n",
      "Iteration 25: norm_diff = 5.52e-10\n",
      "Iteration 26: norm_diff = 2.45e-10\n",
      "Iteration 27: norm_diff = 1.09e-10\n",
      "Iteration 28: norm_diff = 4.83e-11\n",
      "Converged at iteration 28 with norm_diff = 4.83e-11\n"
     ]
    }
   ],
   "source": [
    "# Run power iteration\n",
    "print(\"\\nRunning power iteration...\")\n",
    "power_eigenvector, power_eigenvalue = power_iteration(A, return_eigenvalue=True, verbose=True)"
   ]
  },
  {
   "cell_type": "code",
   "execution_count": 265,
   "id": "2218a572",
   "metadata": {},
   "outputs": [
    {
     "name": "stdout",
     "output_type": "stream",
     "text": [
      "\n",
      "Running eigendecomposition...\n"
     ]
    }
   ],
   "source": [
    "# Run eigendecomposition\n",
    "print(\"\\nRunning eigendecomposition...\")\n",
    "eigenvalues, eigenvectors = quaternion_eigendecomposition(A, verbose=False)"
   ]
  },
  {
   "cell_type": "code",
   "execution_count": 266,
   "id": "7e320b56",
   "metadata": {},
   "outputs": [],
   "source": [
    "# Find dominant eigenvalue and eigenvector\n",
    "dominant_idx = np.argmax(np.abs(eigenvalues))\n",
    "dominant_eigenvalue = eigenvalues[dominant_idx]\n",
    "dominant_eigenvector = eigenvectors[:, dominant_idx:dominant_idx+1]"
   ]
  },
  {
   "cell_type": "code",
   "execution_count": 267,
   "id": "bb9f66b7",
   "metadata": {},
   "outputs": [
    {
     "name": "stdout",
     "output_type": "stream",
     "text": [
      "\n",
      "Comparison Results:\n",
      "Power iteration eigenvalue: 1824.946115\n",
      "Eigendecomposition dominant eigenvalue: 1824.946115+0.000000j\n",
      "Eigenvalue difference: 1.36e-12\n"
     ]
    }
   ],
   "source": [
    "print(f\"\\nComparison Results:\")\n",
    "print(f\"Power iteration eigenvalue: {power_eigenvalue:.6f}\")\n",
    "print(f\"Eigendecomposition dominant eigenvalue: {dominant_eigenvalue:.6f}\")\n",
    "print(f\"Eigenvalue difference: {abs(power_eigenvalue - abs(dominant_eigenvalue)):.2e}\")"
   ]
  },
  {
   "cell_type": "code",
   "execution_count": 268,
   "id": "9c66e977",
   "metadata": {},
   "outputs": [],
   "source": [
    "# Compare eigenvectors\n",
    "power_norm = quat_frobenius_norm(power_eigenvector)\n",
    "decomp_norm = quat_frobenius_norm(dominant_eigenvector)"
   ]
  },
  {
   "cell_type": "code",
   "execution_count": 269,
   "id": "450295a3",
   "metadata": {},
   "outputs": [],
   "source": [
    "power_normalized = power_eigenvector / power_norm\n",
    "decomp_normalized = dominant_eigenvector / decomp_norm"
   ]
  },
  {
   "cell_type": "code",
   "execution_count": 270,
   "id": "19c01c49",
   "metadata": {},
   "outputs": [],
   "source": [
    "dot_product = quat_matmat(quat_hermitian(power_normalized), decomp_normalized)\n",
    "dot_product_norm = quat_frobenius_norm(dot_product)"
   ]
  },
  {
   "cell_type": "code",
   "execution_count": 271,
   "id": "8caf12b0",
   "metadata": {},
   "outputs": [
    {
     "name": "stdout",
     "output_type": "stream",
     "text": [
      "Eigenvector alignment: 1.000000\n"
     ]
    }
   ],
   "source": [
    "print(f\"Eigenvector alignment: {dot_product_norm:.6f}\")"
   ]
  },
  {
   "cell_type": "code",
   "execution_count": 272,
   "id": "c297bb12",
   "metadata": {},
   "outputs": [],
   "source": [
    "# Verify results\n",
    "eigenvalue_error = abs(power_eigenvalue - abs(dominant_eigenvalue))\n",
    "eigenvector_error = abs(dot_product_norm - 1.0)"
   ]
  },
  {
   "cell_type": "code",
   "execution_count": 273,
   "id": "33f7fff5",
   "metadata": {},
   "outputs": [
    {
     "name": "stdout",
     "output_type": "stream",
     "text": [
      "✅ Power iteration matches eigendecomposition perfectly!\n"
     ]
    }
   ],
   "source": [
    "if eigenvalue_error < 1e-6 and eigenvector_error < 1e-6:\n",
    "    print(\"✅ Power iteration matches eigendecomposition perfectly!\")\n",
    "else:\n",
    "    print(\"❌ Power iteration has issues!\")"
   ]
  },
  {
   "cell_type": "markdown",
   "id": "cbd71b8f",
   "metadata": {},
   "source": [
    "### 11.2 Power Iteration Performance Across Sizes"
   ]
  },
  {
   "cell_type": "code",
   "execution_count": 274,
   "id": "b28c7ca1",
   "metadata": {},
   "outputs": [
    {
     "name": "stdout",
     "output_type": "stream",
     "text": [
      "\n",
      "--- Performance Across Matrix Sizes ---\n"
     ]
    }
   ],
   "source": [
    "print(\"\\n--- Performance Across Matrix Sizes ---\")"
   ]
  },
  {
   "cell_type": "code",
   "execution_count": 275,
   "id": "c4864e2d",
   "metadata": {},
   "outputs": [
    {
     "name": "stdout",
     "output_type": "stream",
     "text": [
      "\n",
      "Testing 3×3 matrix:\n",
      "  Power iteration: 0.000s\n",
      "  Eigendecomposition: 0.000s\n",
      "  Speedup: 0.8x faster\n",
      "\n",
      "Testing 6×6 matrix:\n",
      "  Power iteration: 0.001s\n",
      "  Eigendecomposition: 0.001s\n",
      "  Speedup: 0.6x faster\n",
      "\n",
      "Testing 9×9 matrix:\n",
      "  Power iteration: 0.001s\n",
      "  Eigendecomposition: 0.001s\n",
      "  Speedup: 1.3x faster\n"
     ]
    }
   ],
   "source": [
    "sizes = [3, 6, 9]\n",
    "for size in sizes:\n",
    "    print(f\"\\nTesting {size}×{size} matrix:\")\n",
    "    \n",
    "    # Create test matrix\n",
    "    B = create_test_matrix(size, size)\n",
    "    A = quat_matmat(quat_hermitian(B), B)\n",
    "    \n",
    "    # Time power iteration\n",
    "    import time\n",
    "    start_time = time.time()\n",
    "    eigenvector, eigenvalue = power_iteration(A, return_eigenvalue=True, verbose=False)\n",
    "    power_time = time.time() - start_time\n",
    "    \n",
    "    # Time eigendecomposition\n",
    "    start_time = time.time()\n",
    "    eigenvalues, eigenvectors = quaternion_eigendecomposition(A, verbose=False)\n",
    "    decomp_time = time.time() - start_time\n",
    "    \n",
    "    print(f\"  Power iteration: {power_time:.3f}s\")\n",
    "    print(f\"  Eigendecomposition: {decomp_time:.3f}s\")\n",
    "    print(f\"  Speedup: {decomp_time/power_time:.1f}x faster\")"
   ]
  },
  {
   "cell_type": "code",
   "execution_count": 276,
   "id": "3e497af6",
   "metadata": {},
   "outputs": [
    {
     "name": "stdout",
     "output_type": "stream",
     "text": [
      "✅ Power iteration performance analysis complete!\n"
     ]
    }
   ],
   "source": [
    "print(\"✅ Power iteration performance analysis complete!\")"
   ]
  },
  {
   "cell_type": "code",
   "execution_count": 285,
   "id": "a7b966cf",
   "metadata": {},
   "outputs": [
    {
     "name": "stdout",
     "output_type": "stream",
     "text": [
      "\n",
      "============================================================\n",
      "HESSENBERG FORM (UPPER HESSENBERG REDUCTION)\n",
      "============================================================\n",
      "Random matrix X shape: (200, 200)\n",
      "Hessenberg reduction:\n",
      "  P shape: (200, 200)\n",
      "  H shape: (200, 200)\n",
      "  P is unitary (P^H P = I): True\n",
      "  Similarity error ||P X P^H - H||_F: 8.44e-11\n",
      "  is_hessenberg(H): True\n"
     ]
    },
    {
     "data": {
      "image/png": "[encoded data removed]",
      "text/plain": [
       "<Figure size 500x500 with 2 Axes>"
      ]
     },
     "metadata": {},
     "output_type": "display_data"
    }
   ],
   "source": [
    "# 13. Hessenberg Form (Upper Hessenberg Reduction)\n",
    "from core.decomp.hessenberg import hessenbergize, is_hessenberg\n",
    "from core.utils import quat_hermitian, quat_matmat, quat_frobenius_norm, quat_eye\n",
    "from core.data_gen import create_test_matrix\n",
    "from core.visualization import Visualizer\n",
    "import numpy as np\n",
    "\n",
    "print(\"\\n\" + \"=\"*60)\n",
    "print(\"HESSENBERG FORM (UPPER HESSENBERG REDUCTION)\")\n",
    "print(\"=\"*60)\n",
    "\n",
    "# Create a random quaternion matrix\n",
    "X = create_test_matrix(200, 200)\n",
    "print(\"Random matrix X shape:\", X.shape)\n",
    "\n",
    "# Compute Hessenberg form\n",
    "P_hess, H = hessenbergize(X)\n",
    "print(\"Hessenberg reduction:\")\n",
    "print(\"  P shape:\", P_hess.shape)\n",
    "print(\"  H shape:\", H.shape)\n",
    "\n",
    "# Verify unitarity of P: P^H P = I\n",
    "P_hess_H = quat_hermitian(P_hess)\n",
    "I_check = quat_matmat(P_hess_H, P_hess)\n",
    "print(\"  P is unitary (P^H P = I):\", np.allclose(I_check, quat_eye(P_hess.shape[0]), atol=1e-10))\n",
    "\n",
    "# Verify similarity relation: H = P * X * P^H\n",
    "PX = quat_matmat(P_hess, X)\n",
    "PXPH = quat_matmat(PX, P_hess_H)\n",
    "print(f\"  Similarity error ||P X P^H - H||_F: {quat_frobenius_norm(PXPH - H):.2e}\")\n",
    "\n",
    "# Check Hessenberg structure\n",
    "print(\"  is_hessenberg(H):\", is_hessenberg(H))\n",
    "\n",
    "# Visualize the real component to illustrate Hessenberg pattern\n",
    "Visualizer.visualize_matrix(H, component=0, title=\"Hessenberg H - Real Component\")\n"
   ]
  },
  {
   "cell_type": "code",
   "execution_count": 280,
   "id": "5d70cf52",
   "metadata": {},
   "outputs": [
    {
     "name": "stdout",
     "output_type": "stream",
     "text": [
      "\n",
      "============================================================\n",
      "SCHUR DECOMPOSITION (QUATERNION)\n",
      "============================================================\n",
      "Random matrix X_schur shape: (6, 6)\n",
      "Schur decomposition:\n",
      "  Q shape: (6, 6)\n",
      "  T shape: (6, 6)\n",
      "  Q is unitary (Q^H Q = I): True\n",
      "  Similarity relative error ||Q T Q^H - A|| / ||A||: 1.34e+00\n"
     ]
    },
    {
     "data": {
      "image/png": "[encoded data removed]",
      "text/plain": [
       "<Figure size 500x500 with 2 Axes>"
      ]
     },
     "metadata": {},
     "output_type": "display_data"
    }
   ],
   "source": [
    "from core.decomp.schur import quaternion_schur\n",
    "\n",
    "print(\"\\n\" + \"=\"*60)\n",
    "print(\"SCHUR DECOMPOSITION (QUATERNION)\")\n",
    "print(\"=\"*60)\n",
    "\n",
    "# Create a random quaternion matrix (general, non-Hermitian)\n",
    "X_schur = create_test_matrix(6, 6)\n",
    "print(\"Random matrix X_schur shape:\", X_schur.shape)\n",
    "\n",
    "# Compute Schur decomposition\n",
    "Q_s, T_s = quaternion_schur(X_schur, max_iter=300, tol=1e-10)\n",
    "print(\"Schur decomposition:\")\n",
    "print(\"  Q shape:\", Q_s.shape)\n",
    "print(\"  T shape:\", T_s.shape)\n",
    "\n",
    "# Verify unitarity of Q: Q^H Q = I\n",
    "QH = quat_hermitian(Q_s)\n",
    "I_check_s = quat_matmat(QH, Q_s)\n",
    "is_unitary_s = np.allclose(I_check_s, quat_eye(Q_s.shape[0]), atol=1e-8)\n",
    "print(\"  Q is unitary (Q^H Q = I):\", is_unitary_s)\n",
    "\n",
    "# Verify similarity: A ≈ Q T Q^H\n",
    "QTQH = quat_matmat(quat_matmat(Q_s, T_s), QH)\n",
    "sim_err_s = quat_frobenius_norm(QTQH - X_schur)\n",
    "rel_sim_err_s = sim_err_s / (1e-12 + quat_frobenius_norm(X_schur))\n",
    "print(f\"  Similarity relative error ||Q T Q^H - A|| / ||A||: {rel_sim_err_s:.2e}\")\n",
    "\n",
    "# Visualize the real component to illustrate triangular pattern\n",
    "from core.visualization import Visualizer\n",
    "Visualizer.visualize_matrix(T_s, component=0, title=\"Schur T - Real Component\")"
   ]
  },
  {
   "cell_type": "markdown",
   "id": "771317bd",
   "metadata": {},
   "source": [
    "## Summary"
   ]
  },
  {
   "cell_type": "code",
   "execution_count": 278,
   "id": "93d5be58",
   "metadata": {},
   "outputs": [
    {
     "name": "stdout",
     "output_type": "stream",
     "text": [
      "🎉 ALL CORE FUNCTIONALITY TESTS COMPLETED SUCCESSFULLY!\n",
      "\n",
      "✅ Basic matrix operations\n",
      "✅ QR decomposition\n",
      "✅ Quaternion SVD (Q-SVD)\n",
      "✅ Randomized Q-SVD\n",
      "✅ Eigenvalue decomposition\n",
      "✅ Tridiagonalization\n",
      "✅ Pseudoinverse computation\n",
      "✅ Linear system solving\n",
      "✅ Visualization\n",
      "✅ Determinant computation\n",
      "✅ Rank computation\n",
      "✅ Power iteration\n",
      "✅ Hessenberg form\n",
      "\n",
      "The code examples in the README are working correctly! 🚀\n"
     ]
    }
   ],
   "source": [
    "print(\"🎉 ALL CORE FUNCTIONALITY TESTS COMPLETED SUCCESSFULLY!\")\n",
    "print(\"\\n✅ Basic matrix operations\")\n",
    "print(\"✅ QR decomposition\")\n",
    "print(\"✅ Quaternion SVD (Q-SVD)\")\n",
    "print(\"✅ Randomized Q-SVD\")\n",
    "print(\"✅ Eigenvalue decomposition\")\n",
    "print(\"✅ Tridiagonalization\")\n",
    "print(\"✅ Pseudoinverse computation\")\n",
    "print(\"✅ Linear system solving\")\n",
    "print(\"✅ Visualization\")\n",
    "print(\"✅ Determinant computation\")\n",
    "print(\"✅ Rank computation\")\n",
    "print(\"✅ Power iteration\")\n",
    "print(\"✅ Hessenberg form\")\n",
    "print(\"\\nThe code examples in the README are working correctly! 🚀\") "
   ]
  }
 ],
 "metadata": {
  "jupytext": {
   "encoding": "# -*- coding: utf-8 -*-"
  },
  "kernelspec": {
   "display_name": "venv",
   "language": "python",
   "name": "python3"
  },
  "language_info": {
   "codemirror_mode": {
    "name": "ipython",
    "version": 3
   },
   "file_extension": ".py",
   "mimetype": "text/x-python",
   "name": "python",
   "nbconvert_exporter": "python",
   "pygments_lexer": "ipython3",
   "version": "3.13.5"
  }
 },
 "nbformat": 4,
 "nbformat_minor": 5
}
