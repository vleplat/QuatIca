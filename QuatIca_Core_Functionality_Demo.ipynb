{
 "cells": [
  {
   "cell_type": "markdown",
   "id": "7b517612",
   "metadata": {},
   "source": [
    "# QuatIca Core Functionality Demo\n",
    "\n",
    "This notebook demonstrates all the core functionality examples from the README.\n",
    "Run each cell to see the code in action!"
   ]
  },
  {
   "cell_type": "markdown",
   "id": "369399f9",
   "metadata": {},
   "source": [
    "## Setup and Imports"
   ]
  },
  {
   "cell_type": "code",
   "execution_count": null,
   "id": "1df2ce32",
   "metadata": {},
   "outputs": [],
   "source": [
    "import sys\n",
    "import os\n",
    "import numpy as np\n",
    "import quaternion\n",
    "import matplotlib.pyplot as plt"
   ]
  },
  {
   "cell_type": "code",
   "execution_count": null,
   "id": "e8fd8988",
   "metadata": {},
   "outputs": [],
   "source": [
    "# Add the core module to the path\n",
    "sys.path.append('core')"
   ]
  },
  {
   "cell_type": "code",
   "execution_count": null,
   "id": "ea3629eb",
   "metadata": {},
   "outputs": [],
   "source": [
    "print(\"✅ All imports successful!\")"
   ]
  },
  {
   "cell_type": "markdown",
   "id": "466fe0d8",
   "metadata": {},
   "source": [
    "## 1. Basic Matrix Operations"
   ]
  },
  {
   "cell_type": "code",
   "execution_count": null,
   "id": "078c82f6",
   "metadata": {},
   "outputs": [],
   "source": [
    "from core.utils import quat_matmat, quat_frobenius_norm\n",
    "from core.data_gen import create_test_matrix"
   ]
  },
  {
   "cell_type": "code",
   "execution_count": null,
   "id": "7b93570c",
   "metadata": {},
   "outputs": [],
   "source": [
    "# Create test matrices\n",
    "A = create_test_matrix(3, 4)\n",
    "B = create_test_matrix(4, 2)"
   ]
  },
  {
   "cell_type": "code",
   "execution_count": null,
   "id": "db9b8127",
   "metadata": {},
   "outputs": [],
   "source": [
    "print(\"Matrix A shape:\", A.shape)\n",
    "print(\"Matrix B shape:\", B.shape)\n",
    "print(\"Matrix A norm:\", quat_frobenius_norm(A))\n",
    "print(\"Matrix B norm:\", quat_frobenius_norm(B))"
   ]
  },
  {
   "cell_type": "code",
   "execution_count": null,
   "id": "815ef9f3",
   "metadata": {},
   "outputs": [],
   "source": [
    "# Matrix multiplication\n",
    "C = quat_matmat(A, B)\n",
    "print(\"Matrix C = A @ B shape:\", C.shape)\n",
    "print(\"Matrix C norm:\", quat_frobenius_norm(C))"
   ]
  },
  {
   "cell_type": "code",
   "execution_count": null,
   "id": "d0c991c8",
   "metadata": {},
   "outputs": [],
   "source": [
    "print(\"✅ Basic matrix operations work!\")"
   ]
  },
  {
   "cell_type": "markdown",
   "id": "ad5f95c7",
   "metadata": {},
   "source": [
    "## 2. QR Decomposition"
   ]
  },
  {
   "cell_type": "code",
   "execution_count": null,
   "id": "5bf9bbfd",
   "metadata": {},
   "outputs": [],
   "source": [
    "from core.decomp.qsvd import qr_qua"
   ]
  },
  {
   "cell_type": "code",
   "execution_count": null,
   "id": "0658d5b3",
   "metadata": {},
   "outputs": [],
   "source": [
    "# Create a test matrix\n",
    "X_quat = create_test_matrix(4, 3)\n",
    "print(\"Input matrix X shape:\", X_quat.shape)"
   ]
  },
  {
   "cell_type": "code",
   "execution_count": null,
   "id": "edfd7895",
   "metadata": {},
   "outputs": [],
   "source": [
    "# QR decomposition\n",
    "Q, R = qr_qua(X_quat)\n",
    "print(\"Q shape:\", Q.shape)\n",
    "print(\"R shape:\", R.shape)"
   ]
  },
  {
   "cell_type": "code",
   "execution_count": null,
   "id": "4b2851f5",
   "metadata": {},
   "outputs": [],
   "source": [
    "# Verify reconstruction\n",
    "X_recon = quat_matmat(Q, R)\n",
    "reconstruction_error = quat_frobenius_norm(X_quat - X_recon)\n",
    "print(\"Reconstruction error:\", reconstruction_error)"
   ]
  },
  {
   "cell_type": "code",
   "execution_count": null,
   "id": "d1d6d504",
   "metadata": {},
   "outputs": [],
   "source": [
    "print(\"✅ QR decomposition works!\")"
   ]
  },
  {
   "cell_type": "markdown",
   "id": "55a392f4",
   "metadata": {},
   "source": [
    "## 3. Quaternion SVD (Q-SVD)"
   ]
  },
  {
   "cell_type": "code",
   "execution_count": null,
   "id": "ea0aacaa",
   "metadata": {},
   "outputs": [],
   "source": [
    "from core.decomp.qsvd import classical_qsvd, classical_qsvd_full"
   ]
  },
  {
   "cell_type": "code",
   "execution_count": null,
   "id": "f3acbe3f",
   "metadata": {},
   "outputs": [],
   "source": [
    "# Create a test matrix\n",
    "X_quat = create_test_matrix(5, 4)\n",
    "print(\"Input matrix X shape:\", X_quat.shape)"
   ]
  },
  {
   "cell_type": "code",
   "execution_count": null,
   "id": "76eb73d7",
   "metadata": {},
   "outputs": [],
   "source": [
    "# Truncated Q-SVD\n",
    "R = 2  # Target rank\n",
    "U, s, V = classical_qsvd(X_quat, R)\n",
    "print(\"Truncated Q-SVD:\")\n",
    "print(\"  U shape:\", U.shape)\n",
    "print(\"  s length:\", len(s))\n",
    "print(\"  V shape:\", V.shape)"
   ]
  },
  {
   "cell_type": "code",
   "execution_count": null,
   "id": "96c2e6fd",
   "metadata": {},
   "outputs": [],
   "source": [
    "# Full Q-SVD\n",
    "U_full, s_full, V_full = classical_qsvd_full(X_quat)\n",
    "print(\"\\nFull Q-SVD:\")\n",
    "print(\"  U_full shape:\", U_full.shape)\n",
    "print(\"  s_full length:\", len(s_full))\n",
    "print(\"  V_full shape:\", V_full.shape)"
   ]
  },
  {
   "cell_type": "code",
   "execution_count": null,
   "id": "13a6fcc4",
   "metadata": {},
   "outputs": [],
   "source": [
    "print(\"✅ Q-SVD works!\")"
   ]
  },
  {
   "cell_type": "markdown",
   "id": "f504ff60",
   "metadata": {},
   "source": [
    "## 4. Randomized Q-SVD"
   ]
  },
  {
   "cell_type": "code",
   "execution_count": null,
   "id": "b0caa65a",
   "metadata": {},
   "outputs": [],
   "source": [
    "from core.decomp.qsvd import rand_qsvd\n",
    "from core.utils import quat_hermitian"
   ]
  },
  {
   "cell_type": "code",
   "execution_count": null,
   "id": "c5ca600a",
   "metadata": {},
   "outputs": [],
   "source": [
    "# Create a test matrix\n",
    "X_quat = create_test_matrix(8, 6)\n",
    "print(\"Input matrix X shape:\", X_quat.shape)"
   ]
  },
  {
   "cell_type": "code",
   "execution_count": null,
   "id": "0143d824",
   "metadata": {},
   "outputs": [],
   "source": [
    "# Randomized Q-SVD with different parameters\n",
    "R = 3  # Target rank\n",
    "print(f\"Target rank R = {R}\")"
   ]
  },
  {
   "cell_type": "code",
   "execution_count": null,
   "id": "94908ffb",
   "metadata": {},
   "outputs": [],
   "source": [
    "# Test with different power iterations\n",
    "for n_iter in [1, 2, 3]:\n",
    "    print(f\"\\nTesting with {n_iter} power iteration(s):\")\n",
    "    \n",
    "    U, s, V = rand_qsvd(X_quat, R, oversample=5, n_iter=n_iter)\n",
    "    print(f\"  U shape: {U.shape}\")\n",
    "    print(f\"  V shape: {V.shape}\")\n",
    "    print(f\"  s shape: {s.shape}\")\n",
    "    print(f\"  Singular values: {s}\")\n",
    "    \n",
    "    # Test reconstruction\n",
    "    S_diag = np.diag(s)\n",
    "    X_recon = quat_matmat(quat_matmat(U, S_diag), quat_hermitian(V))\n",
    "    reconstruction_error = quat_frobenius_norm(X_quat - X_recon)\n",
    "    relative_error = reconstruction_error / quat_frobenius_norm(X_quat)\n",
    "    print(f\"  Reconstruction error: {reconstruction_error:.6f}\")\n",
    "    print(f\"  Relative error: {relative_error:.6f}\")"
   ]
  },
  {
   "cell_type": "code",
   "execution_count": null,
   "id": "873435f4",
   "metadata": {},
   "outputs": [],
   "source": [
    "# Test with full rank for perfect reconstruction\n",
    "print(f\"\\nTesting with full rank (R = {min(X_quat.shape)}):\")\n",
    "U_full, s_full, V_full = rand_qsvd(X_quat, min(X_quat.shape), oversample=5, n_iter=2)\n",
    "S_full_diag = np.diag(s_full)\n",
    "X_recon_full = quat_matmat(quat_matmat(U_full, S_full_diag), quat_hermitian(V_full))\n",
    "reconstruction_error_full = quat_frobenius_norm(X_quat - X_recon_full)\n",
    "print(f\"  Full rank reconstruction error: {reconstruction_error_full:.2e}\")"
   ]
  },
  {
   "cell_type": "code",
   "execution_count": null,
   "id": "c69ea8eb",
   "metadata": {},
   "outputs": [],
   "source": [
    "print(\"✅ Randomized Q-SVD works!\")"
   ]
  },
  {
   "cell_type": "markdown",
   "id": "69b42fd8",
   "metadata": {},
   "source": [
    "## 5. Eigenvalue Decomposition"
   ]
  },
  {
   "cell_type": "code",
   "execution_count": null,
   "id": "9191d3a5",
   "metadata": {},
   "outputs": [],
   "source": [
    "from core.decomp import quaternion_eigendecomposition, quaternion_eigenvalues, quaternion_eigenvectors\n",
    "from core.utils import quat_hermitian"
   ]
  },
  {
   "cell_type": "code",
   "execution_count": null,
   "id": "b7082e02",
   "metadata": {},
   "outputs": [],
   "source": [
    "# Create a Hermitian matrix A = B^H @ B\n",
    "B = create_test_matrix(4, 3)\n",
    "B_H = quat_hermitian(B)\n",
    "A_quat = quat_matmat(B_H, B)\n",
    "print(\"Hermitian matrix A shape:\", A_quat.shape)"
   ]
  },
  {
   "cell_type": "code",
   "execution_count": null,
   "id": "4000b5be",
   "metadata": {},
   "outputs": [],
   "source": [
    "# Full eigendecomposition\n",
    "eigenvalues, eigenvectors = quaternion_eigendecomposition(A_quat)\n",
    "print(\"Full eigendecomposition:\")\n",
    "print(\"  Number of eigenvalues:\", len(eigenvalues))\n",
    "print(\"  Eigenvectors shape:\", eigenvectors.shape)"
   ]
  },
  {
   "cell_type": "code",
   "execution_count": null,
   "id": "443732e5",
   "metadata": {},
   "outputs": [],
   "source": [
    "# Extract only eigenvalues\n",
    "eigenvals = quaternion_eigenvalues(A_quat)\n",
    "print(\"\\nEigenvalues only:\", len(eigenvals))"
   ]
  },
  {
   "cell_type": "code",
   "execution_count": null,
   "id": "b96b6ca9",
   "metadata": {},
   "outputs": [],
   "source": [
    "# Extract only eigenvectors\n",
    "eigenvecs = quaternion_eigenvectors(A_quat)\n",
    "print(\"Eigenvectors only shape:\", eigenvecs.shape)"
   ]
  },
  {
   "cell_type": "code",
   "execution_count": null,
   "id": "4e1247ea",
   "metadata": {},
   "outputs": [],
   "source": [
    "# Verify eigenvalues are real\n",
    "imaginary_parts = np.imag(eigenvalues)\n",
    "max_imag = np.max(np.abs(imaginary_parts))\n",
    "print(\"Maximum imaginary part:\", max_imag)"
   ]
  },
  {
   "cell_type": "code",
   "execution_count": null,
   "id": "96453374",
   "metadata": {},
   "outputs": [],
   "source": [
    "print(\"✅ Eigenvalue decomposition works!\")"
   ]
  },
  {
   "cell_type": "markdown",
   "id": "dc70ab90",
   "metadata": {},
   "source": [
    "## 6. Tridiagonalization"
   ]
  },
  {
   "cell_type": "code",
   "execution_count": null,
   "id": "a346d557",
   "metadata": {},
   "outputs": [],
   "source": [
    "from core.decomp import tridiagonalize"
   ]
  },
  {
   "cell_type": "code",
   "execution_count": null,
   "id": "c06016d2",
   "metadata": {},
   "outputs": [],
   "source": [
    "# Use the same Hermitian matrix from above\n",
    "print(\"Hermitian matrix A shape:\", A_quat.shape)"
   ]
  },
  {
   "cell_type": "code",
   "execution_count": null,
   "id": "9c27d8b0",
   "metadata": {},
   "outputs": [],
   "source": [
    "# Tridiagonalize\n",
    "P, B_tridiag = tridiagonalize(A_quat)\n",
    "print(\"Tridiagonalization:\")\n",
    "print(\"  P shape:\", P.shape)\n",
    "print(\"  B shape:\", B_tridiag.shape)"
   ]
  },
  {
   "cell_type": "code",
   "execution_count": null,
   "id": "cc24d18a",
   "metadata": {},
   "outputs": [],
   "source": [
    "# Verify transformation\n",
    "P_H = quat_hermitian(P)\n",
    "PAP_H = quat_matmat(quat_matmat(P, A_quat), P_H)\n",
    "transformation_error = quat_frobenius_norm(PAP_H - B_tridiag)\n",
    "print(\"  Transformation error:\", transformation_error)"
   ]
  },
  {
   "cell_type": "code",
   "execution_count": null,
   "id": "c1a278b9",
   "metadata": {},
   "outputs": [],
   "source": [
    "print(\"✅ Tridiagonalization works!\")"
   ]
  },
  {
   "cell_type": "markdown",
   "id": "f86955b9",
   "metadata": {},
   "source": [
    "## 7. Pseudoinverse Computation"
   ]
  },
  {
   "cell_type": "code",
   "execution_count": null,
   "id": "1dfe29e1",
   "metadata": {},
   "outputs": [],
   "source": [
    "from core.solver import NewtonSchulzPseudoinverse"
   ]
  },
  {
   "cell_type": "code",
   "execution_count": null,
   "id": "bba597a6",
   "metadata": {},
   "outputs": [],
   "source": [
    "# Create a test matrix\n",
    "A = create_test_matrix(3, 4)\n",
    "print(\"Matrix A shape:\", A.shape)"
   ]
  },
  {
   "cell_type": "code",
   "execution_count": null,
   "id": "f5129319",
   "metadata": {},
   "outputs": [],
   "source": [
    "# Compute pseudoinverse\n",
    "solver = NewtonSchulzPseudoinverse()\n",
    "A_pinv, residuals, covariances = solver.compute(A)\n",
    "print(\"Pseudoinverse A^† shape:\", A_pinv.shape)"
   ]
  },
  {
   "cell_type": "code",
   "execution_count": null,
   "id": "83e3999d",
   "metadata": {},
   "outputs": [],
   "source": [
    "# Verify pseudoinverse properties\n",
    "A_pinv_H = quat_hermitian(A_pinv)\n",
    "print(\"A^† shape:\", A_pinv.shape)\n",
    "print(\"A^†^† shape:\", A_pinv_H.shape)"
   ]
  },
  {
   "cell_type": "code",
   "execution_count": null,
   "id": "13cdceff",
   "metadata": {},
   "outputs": [],
   "source": [
    "print(\"✅ Pseudoinverse computation works!\")"
   ]
  },
  {
   "cell_type": "markdown",
   "id": "8a723133",
   "metadata": {},
   "source": [
    "## 8. Linear System Solving"
   ]
  },
  {
   "cell_type": "code",
   "execution_count": null,
   "id": "fb02ede9",
   "metadata": {},
   "outputs": [],
   "source": [
    "from core.solver import QGMRESSolver"
   ]
  },
  {
   "cell_type": "code",
   "execution_count": null,
   "id": "e7e90e2a",
   "metadata": {},
   "outputs": [],
   "source": [
    "# Create a square system A * x = b\n",
    "A = create_test_matrix(3, 3)\n",
    "b = create_test_matrix(3, 1)\n",
    "print(\"System A shape:\", A.shape)\n",
    "print(\"Right-hand side b shape:\", b.shape)"
   ]
  },
  {
   "cell_type": "code",
   "execution_count": null,
   "id": "70b6919e",
   "metadata": {},
   "outputs": [],
   "source": [
    "# Solve using Q-GMRES\n",
    "solver = QGMRESSolver()\n",
    "x, info = solver.solve(A, b)\n",
    "print(\"Solution x shape:\", x.shape)\n",
    "print(\"Convergence info:\", info)"
   ]
  },
  {
   "cell_type": "code",
   "execution_count": null,
   "id": "d9045204",
   "metadata": {},
   "outputs": [],
   "source": [
    "# Verify solution\n",
    "Ax = quat_matmat(A, x)\n",
    "residual = quat_frobenius_norm(Ax - b)\n",
    "print(\"Residual ||A*x - b||:\", residual)"
   ]
  },
  {
   "cell_type": "code",
   "execution_count": null,
   "id": "a56f20dc",
   "metadata": {},
   "outputs": [],
   "source": [
    "print(\"✅ Linear system solving works!\")"
   ]
  },
  {
   "cell_type": "markdown",
   "id": "933028a8",
   "metadata": {},
   "source": [
    "## 9. Visualization"
   ]
  },
  {
   "cell_type": "code",
   "execution_count": null,
   "id": "f63a66dd",
   "metadata": {},
   "outputs": [],
   "source": [
    "from core.visualization import Visualizer"
   ]
  },
  {
   "cell_type": "code",
   "execution_count": null,
   "id": "4e421710",
   "metadata": {},
   "outputs": [],
   "source": [
    "# Create a test matrix\n",
    "A = create_test_matrix(4, 4)\n",
    "print(\"Matrix A shape:\", A.shape)"
   ]
  },
  {
   "cell_type": "code",
   "execution_count": null,
   "id": "aae3be70",
   "metadata": {},
   "outputs": [],
   "source": [
    "# Plot matrix components\n",
    "Visualizer.visualize_matrix(A, component=0, title=\"Test Matrix - Real Component\")\n",
    "Visualizer.visualize_matrix(A, component=1, title=\"Test Matrix - i Component\")"
   ]
  },
  {
   "cell_type": "code",
   "execution_count": null,
   "id": "9fc6cb7f",
   "metadata": {},
   "outputs": [],
   "source": [
    "print(\"✅ Visualization works!\")"
   ]
  },
  {
   "cell_type": "markdown",
   "id": "c2c9e225",
   "metadata": {},
   "source": [
    "## 10. Determinant and Rank Computation"
   ]
  },
  {
   "cell_type": "code",
   "execution_count": null,
   "id": "9b21e529",
   "metadata": {},
   "outputs": [],
   "source": [
    "from core.utils import det, rank\n",
    "from core.data_gen import generate_random_unitary_matrix"
   ]
  },
  {
   "cell_type": "code",
   "execution_count": null,
   "id": "6389491a",
   "metadata": {},
   "outputs": [],
   "source": [
    "print(\"\\n\" + \"=\"*60)\n",
    "print(\"DETERMINANT AND RANK COMPUTATION DEMONSTRATIONS\")\n",
    "print(\"=\"*60)"
   ]
  },
  {
   "cell_type": "markdown",
   "id": "e3d97483",
   "metadata": {},
   "source": [
    "### 10.1 Determinant Demo: Unitary Matrix with Known Determinant"
   ]
  },
  {
   "cell_type": "code",
   "execution_count": null,
   "id": "a3e18032",
   "metadata": {},
   "outputs": [],
   "source": [
    "print(\"\\n--- Determinant Demo: Unitary Matrix ---\")"
   ]
  },
  {
   "cell_type": "code",
   "execution_count": null,
   "id": "c993983c",
   "metadata": {},
   "outputs": [],
   "source": [
    "# Generate a random unitary matrix (determinant should be 1)\n",
    "n = 4\n",
    "U = generate_random_unitary_matrix(n)\n",
    "print(f\"Generated unitary matrix U of size {n}×{n}\")"
   ]
  },
  {
   "cell_type": "code",
   "execution_count": null,
   "id": "60870215",
   "metadata": {},
   "outputs": [],
   "source": [
    "# Compute Dieudonné determinant\n",
    "det_dieudonne = det(U, 'Dieudonne')\n",
    "print(f\"Dieudonné determinant: {det_dieudonne:.6f}\")"
   ]
  },
  {
   "cell_type": "code",
   "execution_count": null,
   "id": "d43f37f3",
   "metadata": {},
   "outputs": [],
   "source": [
    "# Expected determinant for unitary matrix should be close to 1\n",
    "expected_det = 1.0\n",
    "error = abs(det_dieudonne - expected_det)\n",
    "print(f\"Expected determinant: {expected_det}\")\n",
    "print(f\"Absolute error: {error:.2e}\")"
   ]
  },
  {
   "cell_type": "code",
   "execution_count": null,
   "id": "1e076fcf",
   "metadata": {},
   "outputs": [],
   "source": [
    "if error < 1e-10:\n",
    "    print(\"✅ Determinant computation works correctly!\")\n",
    "else:\n",
    "    print(\"❌ Determinant computation has issues!\")"
   ]
  },
  {
   "cell_type": "markdown",
   "id": "1b5bb50e",
   "metadata": {},
   "source": [
    "### 10.2 Rank Demo: Matrix Product with Known Rank"
   ]
  },
  {
   "cell_type": "code",
   "execution_count": null,
   "id": "cd115d34",
   "metadata": {},
   "outputs": [],
   "source": [
    "print(\"\\n--- Rank Demo: Matrix Product ---\")"
   ]
  },
  {
   "cell_type": "code",
   "execution_count": null,
   "id": "78f0548c",
   "metadata": {},
   "outputs": [],
   "source": [
    "# Create matrices A (m×r) and B (r×n) with known rank r\n",
    "m, r, n = 5, 3, 4\n",
    "A = create_test_matrix(m, r)\n",
    "B = create_test_matrix(r, n)\n",
    "print(f\"Matrix A: {m}×{r}\")\n",
    "print(f\"Matrix B: {r}×{n}\")"
   ]
  },
  {
   "cell_type": "code",
   "execution_count": null,
   "id": "d1511f06",
   "metadata": {},
   "outputs": [],
   "source": [
    "# Compute product C = A @ B\n",
    "C = quat_matmat(A, B)\n",
    "print(f\"Matrix C = A @ B: {C.shape}\")"
   ]
  },
  {
   "cell_type": "code",
   "execution_count": null,
   "id": "3cb21d63",
   "metadata": {},
   "outputs": [],
   "source": [
    "# Compute rank of C\n",
    "computed_rank = rank(C)\n",
    "expected_rank = r\n",
    "print(f\"Computed rank of C: {computed_rank}\")\n",
    "print(f\"Expected rank: {expected_rank}\")"
   ]
  },
  {
   "cell_type": "code",
   "execution_count": null,
   "id": "714f879e",
   "metadata": {},
   "outputs": [],
   "source": [
    "if computed_rank == expected_rank:\n",
    "    print(\"✅ Rank computation works correctly!\")\n",
    "else:\n",
    "    print(\"❌ Rank computation has issues!\")"
   ]
  },
  {
   "cell_type": "markdown",
   "id": "c79f1ee6",
   "metadata": {},
   "source": [
    "### 10.3 Additional Rank Examples"
   ]
  },
  {
   "cell_type": "code",
   "execution_count": null,
   "id": "7a13a6fa",
   "metadata": {},
   "outputs": [],
   "source": [
    "print(\"\\n--- Additional Rank Examples ---\")"
   ]
  },
  {
   "cell_type": "code",
   "execution_count": null,
   "id": "f05e83b6",
   "metadata": {},
   "outputs": [],
   "source": [
    "# Test full-rank matrix\n",
    "full_rank_matrix = create_test_matrix(4, 4)\n",
    "full_rank = rank(full_rank_matrix)\n",
    "print(f\"Full-rank 4×4 matrix: rank = {full_rank} (expected: 4)\")"
   ]
  },
  {
   "cell_type": "code",
   "execution_count": null,
   "id": "8cd7a83a",
   "metadata": {},
   "outputs": [],
   "source": [
    "# Test zero matrix\n",
    "zero_matrix = np.zeros((3, 3), dtype=np.quaternion)\n",
    "zero_rank = rank(zero_matrix)\n",
    "print(f\"Zero 3×3 matrix: rank = {zero_rank} (expected: 0)\")"
   ]
  },
  {
   "cell_type": "code",
   "execution_count": null,
   "id": "d4d410d9",
   "metadata": {},
   "outputs": [],
   "source": [
    "# Test identity matrix\n",
    "identity_matrix = np.eye(5, dtype=np.quaternion)\n",
    "identity_rank = rank(identity_matrix)\n",
    "print(f\"Identity 5×5 matrix: rank = {identity_rank} (expected: 5)\")"
   ]
  },
  {
   "cell_type": "code",
   "execution_count": null,
   "id": "cc2bec51",
   "metadata": {},
   "outputs": [],
   "source": [
    "print(\"✅ All rank examples work correctly!\")"
   ]
  },
  {
   "cell_type": "markdown",
   "id": "df9d90b7",
   "metadata": {},
   "source": [
    "## 11. Power Iteration for Dominant Eigenvector"
   ]
  },
  {
   "cell_type": "code",
   "execution_count": null,
   "id": "4f136b85",
   "metadata": {},
   "outputs": [],
   "source": [
    "from core.utils import power_iteration\n",
    "from core.decomp.eigen import quaternion_eigendecomposition"
   ]
  },
  {
   "cell_type": "code",
   "execution_count": null,
   "id": "8dcd72d7",
   "metadata": {},
   "outputs": [],
   "source": [
    "print(\"\\n\" + \"=\"*60)\n",
    "print(\"POWER ITERATION FOR DOMINANT EIGENVECTOR\")\n",
    "print(\"=\"*60)"
   ]
  },
  {
   "cell_type": "markdown",
   "id": "a96a3a0e",
   "metadata": {},
   "source": [
    "### 11.1 Power Iteration Demo: Comparison with Eigendecomposition"
   ]
  },
  {
   "cell_type": "code",
   "execution_count": null,
   "id": "a4d63d0c",
   "metadata": {},
   "outputs": [],
   "source": [
    "print(\"\\n--- Power Iteration vs Eigendecomposition ---\")"
   ]
  },
  {
   "cell_type": "code",
   "execution_count": null,
   "id": "9d93c133",
   "metadata": {},
   "outputs": [],
   "source": [
    "# Create Hermitian matrix: A = B^H @ B (positive definite)\n",
    "B = create_test_matrix(5, 5)\n",
    "A = quat_matmat(quat_hermitian(B), B)\n",
    "print(f\"Created Hermitian matrix A of size {A.shape}\")"
   ]
  },
  {
   "cell_type": "code",
   "execution_count": null,
   "id": "eaf097f0",
   "metadata": {},
   "outputs": [],
   "source": [
    "# Run power iteration\n",
    "print(\"\\nRunning power iteration...\")\n",
    "power_eigenvector, power_eigenvalue = power_iteration(A, return_eigenvalue=True, verbose=True)"
   ]
  },
  {
   "cell_type": "code",
   "execution_count": null,
   "id": "2218a572",
   "metadata": {},
   "outputs": [],
   "source": [
    "# Run eigendecomposition\n",
    "print(\"\\nRunning eigendecomposition...\")\n",
    "eigenvalues, eigenvectors = quaternion_eigendecomposition(A, verbose=False)"
   ]
  },
  {
   "cell_type": "code",
   "execution_count": null,
   "id": "7e320b56",
   "metadata": {},
   "outputs": [],
   "source": [
    "# Find dominant eigenvalue and eigenvector\n",
    "dominant_idx = np.argmax(np.abs(eigenvalues))\n",
    "dominant_eigenvalue = eigenvalues[dominant_idx]\n",
    "dominant_eigenvector = eigenvectors[:, dominant_idx:dominant_idx+1]"
   ]
  },
  {
   "cell_type": "code",
   "execution_count": null,
   "id": "bb9f66b7",
   "metadata": {},
   "outputs": [],
   "source": [
    "print(f\"\\nComparison Results:\")\n",
    "print(f\"Power iteration eigenvalue: {power_eigenvalue:.6f}\")\n",
    "print(f\"Eigendecomposition dominant eigenvalue: {dominant_eigenvalue:.6f}\")\n",
    "print(f\"Eigenvalue difference: {abs(power_eigenvalue - abs(dominant_eigenvalue)):.2e}\")"
   ]
  },
  {
   "cell_type": "code",
   "execution_count": null,
   "id": "9c66e977",
   "metadata": {},
   "outputs": [],
   "source": [
    "# Compare eigenvectors\n",
    "power_norm = quat_frobenius_norm(power_eigenvector)\n",
    "decomp_norm = quat_frobenius_norm(dominant_eigenvector)"
   ]
  },
  {
   "cell_type": "code",
   "execution_count": null,
   "id": "450295a3",
   "metadata": {},
   "outputs": [],
   "source": [
    "power_normalized = power_eigenvector / power_norm\n",
    "decomp_normalized = dominant_eigenvector / decomp_norm"
   ]
  },
  {
   "cell_type": "code",
   "execution_count": null,
   "id": "19c01c49",
   "metadata": {},
   "outputs": [],
   "source": [
    "dot_product = quat_matmat(quat_hermitian(power_normalized), decomp_normalized)\n",
    "dot_product_norm = quat_frobenius_norm(dot_product)"
   ]
  },
  {
   "cell_type": "code",
   "execution_count": null,
   "id": "8caf12b0",
   "metadata": {},
   "outputs": [],
   "source": [
    "print(f\"Eigenvector alignment: {dot_product_norm:.6f}\")"
   ]
  },
  {
   "cell_type": "code",
   "execution_count": null,
   "id": "c297bb12",
   "metadata": {},
   "outputs": [],
   "source": [
    "# Verify results\n",
    "eigenvalue_error = abs(power_eigenvalue - abs(dominant_eigenvalue))\n",
    "eigenvector_error = abs(dot_product_norm - 1.0)"
   ]
  },
  {
   "cell_type": "code",
   "execution_count": null,
   "id": "33f7fff5",
   "metadata": {},
   "outputs": [],
   "source": [
    "if eigenvalue_error < 1e-6 and eigenvector_error < 1e-6:\n",
    "    print(\"✅ Power iteration matches eigendecomposition perfectly!\")\n",
    "else:\n",
    "    print(\"❌ Power iteration has issues!\")"
   ]
  },
  {
   "cell_type": "markdown",
   "id": "cbd71b8f",
   "metadata": {},
   "source": [
    "### 11.2 Power Iteration Performance Across Sizes"
   ]
  },
  {
   "cell_type": "code",
   "execution_count": null,
   "id": "b28c7ca1",
   "metadata": {},
   "outputs": [],
   "source": [
    "print(\"\\n--- Performance Across Matrix Sizes ---\")"
   ]
  },
  {
   "cell_type": "code",
   "execution_count": null,
   "id": "c4864e2d",
   "metadata": {},
   "outputs": [],
   "source": [
    "sizes = [3, 6, 9]\n",
    "for size in sizes:\n",
    "    print(f\"\\nTesting {size}×{size} matrix:\")\n",
    "    \n",
    "    # Create test matrix\n",
    "    B = create_test_matrix(size, size)\n",
    "    A = quat_matmat(quat_hermitian(B), B)\n",
    "    \n",
    "    # Time power iteration\n",
    "    import time\n",
    "    start_time = time.time()\n",
    "    eigenvector, eigenvalue = power_iteration(A, return_eigenvalue=True, verbose=False)\n",
    "    power_time = time.time() - start_time\n",
    "    \n",
    "    # Time eigendecomposition\n",
    "    start_time = time.time()\n",
    "    eigenvalues, eigenvectors = quaternion_eigendecomposition(A, verbose=False)\n",
    "    decomp_time = time.time() - start_time\n",
    "    \n",
    "    print(f\"  Power iteration: {power_time:.3f}s\")\n",
    "    print(f\"  Eigendecomposition: {decomp_time:.3f}s\")\n",
    "    print(f\"  Speedup: {decomp_time/power_time:.1f}x faster\")"
   ]
  },
  {
   "cell_type": "code",
   "execution_count": null,
   "id": "3e497af6",
   "metadata": {},
   "outputs": [],
   "source": [
    "print(\"✅ Power iteration performance analysis complete!\")"
   ]
  },
  {
   "cell_type": "markdown",
   "id": "771317bd",
   "metadata": {},
   "source": [
    "## Summary"
   ]
  },
  {
   "cell_type": "code",
   "execution_count": null,
   "id": "93d5be58",
   "metadata": {},
   "outputs": [],
   "source": [
    "print(\"🎉 ALL CORE FUNCTIONALITY TESTS COMPLETED SUCCESSFULLY!\")\n",
    "print(\"\\n✅ Basic matrix operations\")\n",
    "print(\"✅ QR decomposition\")\n",
    "print(\"✅ Quaternion SVD (Q-SVD)\")\n",
    "print(\"✅ Randomized Q-SVD\")\n",
    "print(\"✅ Eigenvalue decomposition\")\n",
    "print(\"✅ Tridiagonalization\")\n",
    "print(\"✅ Pseudoinverse computation\")\n",
    "print(\"✅ Linear system solving\")\n",
    "print(\"✅ Visualization\")\n",
    "print(\"✅ Determinant computation\")\n",
    "print(\"✅ Rank computation\")\n",
    "print(\"✅ Power iteration\")\n",
    "print(\"\\nThe code examples in the README are working correctly! 🚀\") "
   ]
  }
 ],
 "metadata": {
  "jupytext": {
   "encoding": "# -*- coding: utf-8 -*-"
  },
  "kernelspec": {
   "display_name": "Python 3",
   "language": "python",
   "name": "python3"
  }
 },
 "nbformat": 4,
 "nbformat_minor": 5
}
