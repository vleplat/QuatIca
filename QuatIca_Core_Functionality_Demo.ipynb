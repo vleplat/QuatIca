{
 "cells": [
  {
   "cell_type": "markdown",
   "id": "961c5661",
   "metadata": {},
   "source": [
    "# QuatIca Core Functionality Demo\n",
    "\n",
    "This notebook demonstrates all the core functionality examples from the README.\n",
    "Run each cell to see the code in action!"
   ]
  },
  {
   "cell_type": "markdown",
   "id": "ba0b029d",
   "metadata": {},
   "source": [
    "## Setup and Imports"
   ]
  },
  {
   "cell_type": "code",
   "execution_count": 1,
   "id": "da2c01ad",
   "metadata": {},
   "outputs": [],
   "source": [
    "import sys\n",
    "import os\n",
    "import numpy as np\n",
    "import quaternion\n",
    "import matplotlib.pyplot as plt"
   ]
  },
  {
   "cell_type": "code",
   "execution_count": 2,
   "id": "32c5b7c7",
   "metadata": {},
   "outputs": [],
   "source": [
    "# Add the core module to the path\n",
    "sys.path.append('core')"
   ]
  },
  {
   "cell_type": "code",
   "execution_count": 3,
   "id": "de06daac",
   "metadata": {},
   "outputs": [
    {
     "name": "stdout",
     "output_type": "stream",
     "text": [
      "✅ All imports successful!\n"
     ]
    }
   ],
   "source": [
    "print(\"✅ All imports successful!\")"
   ]
  },
  {
   "cell_type": "markdown",
   "id": "ad07a1af",
   "metadata": {},
   "source": [
    "## 1. Basic Matrix Operations"
   ]
  },
  {
   "cell_type": "code",
   "execution_count": 4,
   "id": "fade8bb8",
   "metadata": {},
   "outputs": [],
   "source": [
    "from core.utils import quat_matmat, quat_frobenius_norm\n",
    "from core.data_gen import create_test_matrix"
   ]
  },
  {
   "cell_type": "code",
   "execution_count": 5,
   "id": "1b0c26c3",
   "metadata": {},
   "outputs": [],
   "source": [
    "# Create test matrices\n",
    "A = create_test_matrix(3, 4)\n",
    "B = create_test_matrix(4, 2)"
   ]
  },
  {
   "cell_type": "code",
   "execution_count": 6,
   "id": "9c9a1f13",
   "metadata": {},
   "outputs": [
    {
     "name": "stdout",
     "output_type": "stream",
     "text": [
      "Matrix A shape: (3, 4)\n",
      "Matrix B shape: (4, 2)\n",
      "Matrix A norm: 16.137622969456427\n",
      "Matrix B norm: 18.95598038048724\n"
     ]
    }
   ],
   "source": [
    "print(\"Matrix A shape:\", A.shape)\n",
    "print(\"Matrix B shape:\", B.shape)\n",
    "print(\"Matrix A norm:\", quat_frobenius_norm(A))\n",
    "print(\"Matrix B norm:\", quat_frobenius_norm(B))"
   ]
  },
  {
   "cell_type": "code",
   "execution_count": 7,
   "id": "a9107f81",
   "metadata": {},
   "outputs": [
    {
     "name": "stdout",
     "output_type": "stream",
     "text": [
      "Matrix C = A @ B shape: (3, 2)\n",
      "Matrix C norm: 116.41638771935487\n"
     ]
    }
   ],
   "source": [
    "# Matrix multiplication\n",
    "C = quat_matmat(A, B)\n",
    "print(\"Matrix C = A @ B shape:\", C.shape)\n",
    "print(\"Matrix C norm:\", quat_frobenius_norm(C))"
   ]
  },
  {
   "cell_type": "code",
   "execution_count": 8,
   "id": "42df1f22",
   "metadata": {},
   "outputs": [
    {
     "name": "stdout",
     "output_type": "stream",
     "text": [
      "✅ Basic matrix operations work!\n"
     ]
    }
   ],
   "source": [
    "print(\"✅ Basic matrix operations work!\")"
   ]
  },
  {
   "cell_type": "markdown",
   "id": "f75d8f71",
   "metadata": {},
   "source": [
    "## 2. QR Decomposition"
   ]
  },
  {
   "cell_type": "code",
   "execution_count": 9,
   "id": "55bf9727",
   "metadata": {},
   "outputs": [],
   "source": [
    "from core.decomp.qsvd import qr_qua"
   ]
  },
  {
   "cell_type": "code",
   "execution_count": 10,
   "id": "706b7462",
   "metadata": {},
   "outputs": [
    {
     "name": "stdout",
     "output_type": "stream",
     "text": [
      "Input matrix X shape: (4, 3)\n"
     ]
    }
   ],
   "source": [
    "# Create a test matrix\n",
    "X_quat = create_test_matrix(4, 3)\n",
    "print(\"Input matrix X shape:\", X_quat.shape)"
   ]
  },
  {
   "cell_type": "code",
   "execution_count": 11,
   "id": "c9cb47f1",
   "metadata": {},
   "outputs": [
    {
     "name": "stdout",
     "output_type": "stream",
     "text": [
      "Q shape: (4, 3)\n",
      "R shape: (3, 3)\n"
     ]
    }
   ],
   "source": [
    "# QR decomposition\n",
    "Q, R = qr_qua(X_quat)\n",
    "print(\"Q shape:\", Q.shape)\n",
    "print(\"R shape:\", R.shape)"
   ]
  },
  {
   "cell_type": "code",
   "execution_count": 12,
   "id": "9c94b07c",
   "metadata": {},
   "outputs": [
    {
     "name": "stdout",
     "output_type": "stream",
     "text": [
      "Reconstruction error: 4.6674778155799156e-15\n"
     ]
    }
   ],
   "source": [
    "# Verify reconstruction\n",
    "X_recon = quat_matmat(Q, R)\n",
    "reconstruction_error = quat_frobenius_norm(X_quat - X_recon)\n",
    "print(\"Reconstruction error:\", reconstruction_error)"
   ]
  },
  {
   "cell_type": "code",
   "execution_count": 13,
   "id": "4d95e5f4",
   "metadata": {},
   "outputs": [
    {
     "name": "stdout",
     "output_type": "stream",
     "text": [
      "✅ QR decomposition works!\n"
     ]
    }
   ],
   "source": [
    "print(\"✅ QR decomposition works!\")"
   ]
  },
  {
   "cell_type": "markdown",
   "id": "04472fa7",
   "metadata": {},
   "source": [
    "## 3. Quaternion SVD (Q-SVD)"
   ]
  },
  {
   "cell_type": "code",
   "execution_count": 14,
   "id": "107bfaa6",
   "metadata": {},
   "outputs": [],
   "source": [
    "from core.decomp.qsvd import classical_qsvd, classical_qsvd_full"
   ]
  },
  {
   "cell_type": "code",
   "execution_count": 15,
   "id": "c1dcf3f3",
   "metadata": {},
   "outputs": [
    {
     "name": "stdout",
     "output_type": "stream",
     "text": [
      "Input matrix X shape: (5, 4)\n"
     ]
    }
   ],
   "source": [
    "# Create a test matrix\n",
    "X_quat = create_test_matrix(5, 4)\n",
    "print(\"Input matrix X shape:\", X_quat.shape)"
   ]
  },
  {
   "cell_type": "code",
   "execution_count": 16,
   "id": "20dec106",
   "metadata": {},
   "outputs": [
    {
     "name": "stdout",
     "output_type": "stream",
     "text": [
      "Truncated Q-SVD:\n",
      "  U shape: (5, 2)\n",
      "  s length: 2\n",
      "  V shape: (4, 2)\n"
     ]
    }
   ],
   "source": [
    "# Truncated Q-SVD\n",
    "R = 2  # Target rank\n",
    "U, s, V = classical_qsvd(X_quat, R)\n",
    "print(\"Truncated Q-SVD:\")\n",
    "print(\"  U shape:\", U.shape)\n",
    "print(\"  s length:\", len(s))\n",
    "print(\"  V shape:\", V.shape)"
   ]
  },
  {
   "cell_type": "code",
   "execution_count": 17,
   "id": "f953e1be",
   "metadata": {},
   "outputs": [
    {
     "name": "stdout",
     "output_type": "stream",
     "text": [
      "\n",
      "Full Q-SVD:\n",
      "  U_full shape: (5, 5)\n",
      "  s_full length: 4\n",
      "  V_full shape: (4, 4)\n"
     ]
    }
   ],
   "source": [
    "# Full Q-SVD\n",
    "U_full, s_full, V_full = classical_qsvd_full(X_quat)\n",
    "print(\"\\nFull Q-SVD:\")\n",
    "print(\"  U_full shape:\", U_full.shape)\n",
    "print(\"  s_full length:\", len(s_full))\n",
    "print(\"  V_full shape:\", V_full.shape)"
   ]
  },
  {
   "cell_type": "code",
   "execution_count": 18,
   "id": "34bd2719",
   "metadata": {},
   "outputs": [
    {
     "name": "stdout",
     "output_type": "stream",
     "text": [
      "✅ Q-SVD works!\n"
     ]
    }
   ],
   "source": [
    "print(\"✅ Q-SVD works!\")"
   ]
  },
  {
   "cell_type": "markdown",
   "id": "2c4abf48",
   "metadata": {},
   "source": [
    "## 4. Randomized Q-SVD"
   ]
  },
  {
   "cell_type": "code",
   "execution_count": 19,
   "id": "248045c1",
   "metadata": {},
   "outputs": [],
   "source": [
    "from core.decomp.qsvd import rand_qsvd\n",
    "from core.utils import quat_hermitian"
   ]
  },
  {
   "cell_type": "code",
   "execution_count": 20,
   "id": "d7df9f14",
   "metadata": {},
   "outputs": [
    {
     "name": "stdout",
     "output_type": "stream",
     "text": [
      "Input matrix X shape: (8, 6)\n"
     ]
    }
   ],
   "source": [
    "# Create a test matrix\n",
    "X_quat = create_test_matrix(8, 6)\n",
    "print(\"Input matrix X shape:\", X_quat.shape)"
   ]
  },
  {
   "cell_type": "code",
   "execution_count": 21,
   "id": "ecb28e57",
   "metadata": {},
   "outputs": [
    {
     "name": "stdout",
     "output_type": "stream",
     "text": [
      "Target rank R = 3\n"
     ]
    }
   ],
   "source": [
    "# Randomized Q-SVD with different parameters\n",
    "R = 3  # Target rank\n",
    "print(f\"Target rank R = {R}\")"
   ]
  },
  {
   "cell_type": "code",
   "execution_count": 22,
   "id": "e782270f",
   "metadata": {},
   "outputs": [
    {
     "name": "stdout",
     "output_type": "stream",
     "text": [
      "\n",
      "Testing with 1 power iteration(s):\n",
      "  U shape: (8, 3)\n",
      "  V shape: (6, 3)\n",
      "  s shape: (3,)\n",
      "  Singular values: [51.81911428 33.36946572 23.54520617]\n",
      "  Reconstruction error: 11.551165\n",
      "  Relative error: 0.172453\n",
      "\n",
      "Testing with 2 power iteration(s):\n",
      "  U shape: (8, 3)\n",
      "  V shape: (6, 3)\n",
      "  s shape: (3,)\n",
      "  Singular values: [51.81911428 33.36946572 23.54520617]\n",
      "  Reconstruction error: 11.551165\n",
      "  Relative error: 0.172453\n",
      "\n",
      "Testing with 3 power iteration(s):\n",
      "  U shape: (8, 3)\n",
      "  V shape: (6, 3)\n",
      "  s shape: (3,)\n",
      "  Singular values: [51.81911428 33.36946572 23.54520617]\n",
      "  Reconstruction error: 11.551165\n",
      "  Relative error: 0.172453\n"
     ]
    }
   ],
   "source": [
    "# Test with different power iterations\n",
    "for n_iter in [1, 2, 3]:\n",
    "    print(f\"\\nTesting with {n_iter} power iteration(s):\")\n",
    "    \n",
    "    U, s, V = rand_qsvd(X_quat, R, oversample=5, n_iter=n_iter)\n",
    "    print(f\"  U shape: {U.shape}\")\n",
    "    print(f\"  V shape: {V.shape}\")\n",
    "    print(f\"  s shape: {s.shape}\")\n",
    "    print(f\"  Singular values: {s}\")\n",
    "    \n",
    "    # Test reconstruction\n",
    "    S_diag = np.diag(s)\n",
    "    X_recon = quat_matmat(quat_matmat(U, S_diag), quat_hermitian(V))\n",
    "    reconstruction_error = quat_frobenius_norm(X_quat - X_recon)\n",
    "    relative_error = reconstruction_error / quat_frobenius_norm(X_quat)\n",
    "    print(f\"  Reconstruction error: {reconstruction_error:.6f}\")\n",
    "    print(f\"  Relative error: {relative_error:.6f}\")"
   ]
  },
  {
   "cell_type": "code",
   "execution_count": 23,
   "id": "fc612d39",
   "metadata": {},
   "outputs": [
    {
     "name": "stdout",
     "output_type": "stream",
     "text": [
      "\n",
      "Testing with full rank (R = 6):\n",
      "  Full rank reconstruction error: 8.02e-14\n"
     ]
    }
   ],
   "source": [
    "# Test with full rank for perfect reconstruction\n",
    "print(f\"\\nTesting with full rank (R = {min(X_quat.shape)}):\")\n",
    "U_full, s_full, V_full = rand_qsvd(X_quat, min(X_quat.shape), oversample=5, n_iter=2)\n",
    "S_full_diag = np.diag(s_full)\n",
    "X_recon_full = quat_matmat(quat_matmat(U_full, S_full_diag), quat_hermitian(V_full))\n",
    "reconstruction_error_full = quat_frobenius_norm(X_quat - X_recon_full)\n",
    "print(f\"  Full rank reconstruction error: {reconstruction_error_full:.2e}\")"
   ]
  },
  {
   "cell_type": "code",
   "execution_count": 24,
   "id": "ff55673c",
   "metadata": {},
   "outputs": [
    {
     "name": "stdout",
     "output_type": "stream",
     "text": [
      "✅ Randomized Q-SVD works!\n"
     ]
    }
   ],
   "source": [
    "print(\"✅ Randomized Q-SVD works!\")"
   ]
  },
  {
   "cell_type": "markdown",
   "id": "a188590d",
   "metadata": {},
   "source": [
    "## 5. Eigenvalue Decomposition"
   ]
  },
  {
   "cell_type": "code",
   "execution_count": 25,
   "id": "6e040429",
   "metadata": {},
   "outputs": [],
   "source": [
    "from core.decomp import quaternion_eigendecomposition, quaternion_eigenvalues, quaternion_eigenvectors\n",
    "from core.utils import quat_hermitian"
   ]
  },
  {
   "cell_type": "code",
   "execution_count": 26,
   "id": "5c35c6d0",
   "metadata": {},
   "outputs": [
    {
     "name": "stdout",
     "output_type": "stream",
     "text": [
      "Hermitian matrix A shape: (3, 3)\n"
     ]
    }
   ],
   "source": [
    "# Create a Hermitian matrix A = B^H @ B\n",
    "B = create_test_matrix(4, 3)\n",
    "B_H = quat_hermitian(B)\n",
    "A_quat = quat_matmat(B_H, B)\n",
    "print(\"Hermitian matrix A shape:\", A_quat.shape)"
   ]
  },
  {
   "cell_type": "code",
   "execution_count": 27,
   "id": "d6368dbb",
   "metadata": {},
   "outputs": [
    {
     "name": "stdout",
     "output_type": "stream",
     "text": [
      "Full eigendecomposition:\n",
      "  Number of eigenvalues: 3\n",
      "  Eigenvectors shape: (3, 3)\n"
     ]
    }
   ],
   "source": [
    "# Full eigendecomposition\n",
    "eigenvalues, eigenvectors = quaternion_eigendecomposition(A_quat)\n",
    "print(\"Full eigendecomposition:\")\n",
    "print(\"  Number of eigenvalues:\", len(eigenvalues))\n",
    "print(\"  Eigenvectors shape:\", eigenvectors.shape)"
   ]
  },
  {
   "cell_type": "code",
   "execution_count": 28,
   "id": "ec5d4d33",
   "metadata": {},
   "outputs": [
    {
     "name": "stdout",
     "output_type": "stream",
     "text": [
      "\n",
      "Eigenvalues only: 3\n"
     ]
    }
   ],
   "source": [
    "# Extract only eigenvalues\n",
    "eigenvals = quaternion_eigenvalues(A_quat)\n",
    "print(\"\\nEigenvalues only:\", len(eigenvals))"
   ]
  },
  {
   "cell_type": "code",
   "execution_count": 29,
   "id": "a90b02cd",
   "metadata": {},
   "outputs": [
    {
     "name": "stdout",
     "output_type": "stream",
     "text": [
      "Eigenvectors only shape: (3, 3)\n"
     ]
    }
   ],
   "source": [
    "# Extract only eigenvectors\n",
    "eigenvecs = quaternion_eigenvectors(A_quat)\n",
    "print(\"Eigenvectors only shape:\", eigenvecs.shape)"
   ]
  },
  {
   "cell_type": "code",
   "execution_count": 30,
   "id": "7a57edb8",
   "metadata": {},
   "outputs": [
    {
     "name": "stdout",
     "output_type": "stream",
     "text": [
      "Maximum imaginary part: 7.495713500337219e-37\n"
     ]
    }
   ],
   "source": [
    "# Verify eigenvalues are real\n",
    "imaginary_parts = np.imag(eigenvalues)\n",
    "max_imag = np.max(np.abs(imaginary_parts))\n",
    "print(\"Maximum imaginary part:\", max_imag)"
   ]
  },
  {
   "cell_type": "code",
   "execution_count": 31,
   "id": "3a727586",
   "metadata": {},
   "outputs": [
    {
     "name": "stdout",
     "output_type": "stream",
     "text": [
      "✅ Eigenvalue decomposition works!\n"
     ]
    }
   ],
   "source": [
    "print(\"✅ Eigenvalue decomposition works!\")"
   ]
  },
  {
   "cell_type": "markdown",
   "id": "dc32e282",
   "metadata": {},
   "source": [
    "## 6. Tridiagonalization"
   ]
  },
  {
   "cell_type": "code",
   "execution_count": 32,
   "id": "75de5c6a",
   "metadata": {},
   "outputs": [],
   "source": [
    "from core.decomp import tridiagonalize"
   ]
  },
  {
   "cell_type": "code",
   "execution_count": 33,
   "id": "d4c12daa",
   "metadata": {},
   "outputs": [
    {
     "name": "stdout",
     "output_type": "stream",
     "text": [
      "Hermitian matrix A shape: (3, 3)\n"
     ]
    }
   ],
   "source": [
    "# Use the same Hermitian matrix from above\n",
    "print(\"Hermitian matrix A shape:\", A_quat.shape)"
   ]
  },
  {
   "cell_type": "code",
   "execution_count": 34,
   "id": "84639763",
   "metadata": {},
   "outputs": [
    {
     "name": "stdout",
     "output_type": "stream",
     "text": [
      "Tridiagonalization:\n",
      "  P shape: (3, 3)\n",
      "  B shape: (3, 3)\n"
     ]
    }
   ],
   "source": [
    "# Tridiagonalize\n",
    "P, B_tridiag = tridiagonalize(A_quat)\n",
    "print(\"Tridiagonalization:\")\n",
    "print(\"  P shape:\", P.shape)\n",
    "print(\"  B shape:\", B_tridiag.shape)"
   ]
  },
  {
   "cell_type": "code",
   "execution_count": 35,
   "id": "4838fd23",
   "metadata": {},
   "outputs": [
    {
     "name": "stdout",
     "output_type": "stream",
     "text": [
      "  Transformation error: 7.610398653245878e-14\n"
     ]
    }
   ],
   "source": [
    "# Verify transformation\n",
    "P_H = quat_hermitian(P)\n",
    "PAP_H = quat_matmat(quat_matmat(P, A_quat), P_H)\n",
    "transformation_error = quat_frobenius_norm(PAP_H - B_tridiag)\n",
    "print(\"  Transformation error:\", transformation_error)"
   ]
  },
  {
   "cell_type": "code",
   "execution_count": 36,
   "id": "7f42fb80",
   "metadata": {},
   "outputs": [
    {
     "name": "stdout",
     "output_type": "stream",
     "text": [
      "✅ Tridiagonalization works!\n"
     ]
    }
   ],
   "source": [
    "print(\"✅ Tridiagonalization works!\")"
   ]
  },
  {
   "cell_type": "markdown",
   "id": "8e2e79f2",
   "metadata": {},
   "source": [
    "## 7. Pseudoinverse Computation"
   ]
  },
  {
   "cell_type": "code",
   "execution_count": 37,
   "id": "b301ab34",
   "metadata": {},
   "outputs": [],
   "source": [
    "from core.solver import NewtonSchulzPseudoinverse"
   ]
  },
  {
   "cell_type": "code",
   "execution_count": 38,
   "id": "712f6850",
   "metadata": {},
   "outputs": [
    {
     "name": "stdout",
     "output_type": "stream",
     "text": [
      "Matrix A shape: (3, 4)\n"
     ]
    }
   ],
   "source": [
    "# Create a test matrix\n",
    "A = create_test_matrix(3, 4)\n",
    "print(\"Matrix A shape:\", A.shape)"
   ]
  },
  {
   "cell_type": "code",
   "execution_count": 39,
   "id": "082ab4f0",
   "metadata": {},
   "outputs": [
    {
     "name": "stdout",
     "output_type": "stream",
     "text": [
      "Pseudoinverse A^† shape: (4, 3)\n"
     ]
    }
   ],
   "source": [
    "# Compute pseudoinverse\n",
    "solver = NewtonSchulzPseudoinverse()\n",
    "A_pinv, residuals, covariances = solver.compute(A)\n",
    "print(\"Pseudoinverse A^† shape:\", A_pinv.shape)"
   ]
  },
  {
   "cell_type": "code",
   "execution_count": 40,
   "id": "11774023",
   "metadata": {},
   "outputs": [
    {
     "name": "stdout",
     "output_type": "stream",
     "text": [
      "A^† shape: (4, 3)\n",
      "A^†^† shape: (3, 4)\n"
     ]
    }
   ],
   "source": [
    "# Verify pseudoinverse properties\n",
    "A_pinv_H = quat_hermitian(A_pinv)\n",
    "print(\"A^† shape:\", A_pinv.shape)\n",
    "print(\"A^†^† shape:\", A_pinv_H.shape)"
   ]
  },
  {
   "cell_type": "code",
   "execution_count": 41,
   "id": "59726667",
   "metadata": {},
   "outputs": [
    {
     "name": "stdout",
     "output_type": "stream",
     "text": [
      "✅ Pseudoinverse computation works!\n"
     ]
    }
   ],
   "source": [
    "print(\"✅ Pseudoinverse computation works!\")"
   ]
  },
  {
   "cell_type": "markdown",
   "id": "885f3968",
   "metadata": {},
   "source": [
    "## 8. Linear System Solving"
   ]
  },
  {
   "cell_type": "code",
   "execution_count": 42,
   "id": "b0712d55",
   "metadata": {},
   "outputs": [],
   "source": [
    "from core.solver import QGMRESSolver"
   ]
  },
  {
   "cell_type": "code",
   "execution_count": 43,
   "id": "1d107faa",
   "metadata": {},
   "outputs": [
    {
     "name": "stdout",
     "output_type": "stream",
     "text": [
      "System A shape: (3, 3)\n",
      "Right-hand side b shape: (3, 1)\n"
     ]
    }
   ],
   "source": [
    "# Create a square system A * x = b\n",
    "A = create_test_matrix(3, 3)\n",
    "b = create_test_matrix(3, 1)\n",
    "print(\"System A shape:\", A.shape)\n",
    "print(\"Right-hand side b shape:\", b.shape)"
   ]
  },
  {
   "cell_type": "code",
   "execution_count": 44,
   "id": "4832cc24",
   "metadata": {},
   "outputs": [
    {
     "name": "stdout",
     "output_type": "stream",
     "text": [
      "Solution x shape: (3, 1)\n",
      "Convergence info: {'iterations': 3, 'residual': np.float64(4.073144510065666e-16), 'residual_history': [[1, np.float64(0.8180831680177888), np.float64(0.8180831680177888)], [2, np.float64(0.6238197975271147), np.float64(0.5103364762331976)], [3, np.float64(6.178152935775884e-16), np.float64(4.073144510065666e-16)]], 'converged': np.True_, 'V0': array([[ 0.46522931,  0.12921957,  0.04855825],\n",
      "       [ 0.00368814, -0.29767171,  0.23769528],\n",
      "       [ 0.15480183, -0.22480936, -0.00892216]]), 'V1': array([[-0.27661535, -0.54108669, -0.21513944],\n",
      "       [ 0.08311018, -0.36948167,  0.58532952],\n",
      "       [-0.21345651,  0.17812458,  0.39376057]]), 'V2': array([[ 0.11408826, -0.12085569,  0.40912197],\n",
      "       [ 0.19341816,  0.09343266, -0.19251439],\n",
      "       [-0.33916021, -0.16398616, -0.03491743]]), 'V3': array([[ 0.09046808,  0.38090392, -0.02559214],\n",
      "       [ 0.48248555,  0.01159317,  0.22959858],\n",
      "       [-0.47345992,  0.43322662,  0.37160216]])}\n"
     ]
    }
   ],
   "source": [
    "# Solve using Q-GMRES\n",
    "solver = QGMRESSolver()\n",
    "x, info = solver.solve(A, b)\n",
    "print(\"Solution x shape:\", x.shape)\n",
    "print(\"Convergence info:\", info)"
   ]
  },
  {
   "cell_type": "code",
   "execution_count": 45,
   "id": "5fa043d4",
   "metadata": {},
   "outputs": [
    {
     "name": "stdout",
     "output_type": "stream",
     "text": [
      "Residual ||A*x - b||: 3.953878923864522e-15\n"
     ]
    }
   ],
   "source": [
    "# Verify solution\n",
    "Ax = quat_matmat(A, x)\n",
    "residual = quat_frobenius_norm(Ax - b)\n",
    "print(\"Residual ||A*x - b||:\", residual)"
   ]
  },
  {
   "cell_type": "code",
   "execution_count": 46,
   "id": "6ac4d168",
   "metadata": {},
   "outputs": [
    {
     "name": "stdout",
     "output_type": "stream",
     "text": [
      "✅ Linear system solving works!\n"
     ]
    }
   ],
   "source": [
    "print(\"✅ Linear system solving works!\")"
   ]
  },
  {
   "cell_type": "markdown",
   "id": "f60bed57",
   "metadata": {},
   "source": [
    "## 9. Visualization"
   ]
  },
  {
   "cell_type": "code",
   "execution_count": 47,
   "id": "81c9a7be",
   "metadata": {},
   "outputs": [],
   "source": [
    "from core.visualization import Visualizer"
   ]
  },
  {
   "cell_type": "code",
   "execution_count": 48,
   "id": "46d4af52",
   "metadata": {},
   "outputs": [
    {
     "name": "stdout",
     "output_type": "stream",
     "text": [
      "Matrix A shape: (4, 4)\n"
     ]
    }
   ],
   "source": [
    "# Create a test matrix\n",
    "A = create_test_matrix(4, 4)\n",
    "print(\"Matrix A shape:\", A.shape)"
   ]
  },
  {
   "cell_type": "code",
   "execution_count": 49,
   "id": "01298064",
   "metadata": {},
   "outputs": [
    {
     "data": {
      "image/png": "[encoded data removed]",
      "text/plain": [
       "<Figure size 500x500 with 2 Axes>"
      ]
     },
     "metadata": {},
     "output_type": "display_data"
    },
    {
     "data": {
      "image/png": "[encoded data removed]",
      "text/plain": [
       "<Figure size 500x500 with 2 Axes>"
      ]
     },
     "metadata": {},
     "output_type": "display_data"
    }
   ],
   "source": [
    "# Plot matrix components\n",
    "Visualizer.visualize_matrix(A, component=0, title=\"Test Matrix - Real Component\")\n",
    "Visualizer.visualize_matrix(A, component=1, title=\"Test Matrix - i Component\")"
   ]
  },
  {
   "cell_type": "code",
   "execution_count": 50,
   "id": "5af884fb",
   "metadata": {},
   "outputs": [
    {
     "name": "stdout",
     "output_type": "stream",
     "text": [
      "✅ Visualization works!\n"
     ]
    }
   ],
   "source": [
    "print(\"✅ Visualization works!\")"
   ]
  },
  {
   "cell_type": "markdown",
   "id": "0441f46d",
   "metadata": {},
   "source": [
    "## Summary"
   ]
  },
  {
   "cell_type": "code",
   "execution_count": 51,
   "id": "15ccdb65",
   "metadata": {},
   "outputs": [
    {
     "name": "stdout",
     "output_type": "stream",
     "text": [
      "🎉 ALL CORE FUNCTIONALITY TESTS COMPLETED SUCCESSFULLY!\n",
      "\n",
      "✅ Basic matrix operations\n",
      "✅ QR decomposition\n",
      "✅ Quaternion SVD (Q-SVD)\n",
      "✅ Randomized Q-SVD\n",
      "✅ Eigenvalue decomposition\n",
      "✅ Tridiagonalization\n",
      "✅ Pseudoinverse computation\n",
      "✅ Linear system solving\n",
      "✅ Visualization\n",
      "\n",
      "The code examples in the README are working correctly! 🚀\n"
     ]
    }
   ],
   "source": [
    "print(\"🎉 ALL CORE FUNCTIONALITY TESTS COMPLETED SUCCESSFULLY!\")\n",
    "print(\"\\n✅ Basic matrix operations\")\n",
    "print(\"✅ QR decomposition\")\n",
    "print(\"✅ Quaternion SVD (Q-SVD)\")\n",
    "print(\"✅ Randomized Q-SVD\")\n",
    "print(\"✅ Eigenvalue decomposition\")\n",
    "print(\"✅ Tridiagonalization\")\n",
    "print(\"✅ Pseudoinverse computation\")\n",
    "print(\"✅ Linear system solving\")\n",
    "print(\"✅ Visualization\")\n",
    "print(\"\\nThe code examples in the README are working correctly! 🚀\") "
   ]
  }
 ],
 "metadata": {
  "jupytext": {
   "encoding": "# -*- coding: utf-8 -*-"
  },
  "kernelspec": {
   "display_name": "venv",
   "language": "python",
   "name": "python3"
  },
  "language_info": {
   "codemirror_mode": {
    "name": "ipython",
    "version": 3
   },
   "file_extension": ".py",
   "mimetype": "text/x-python",
   "name": "python",
   "nbconvert_exporter": "python",
   "pygments_lexer": "ipython3",
   "version": "3.13.5"
  }
 },
 "nbformat": 4,
 "nbformat_minor": 5
}
