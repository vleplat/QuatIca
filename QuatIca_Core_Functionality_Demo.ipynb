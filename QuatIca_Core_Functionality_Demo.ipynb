{
 "cells": [
  {
   "cell_type": "markdown",
   "id": "933ccb94",
   "metadata": {},
   "source": [
    "# QuatIca Core Functionality Demo\n",
    "\n",
    "This notebook demonstrates all the core functionality examples from the README.\n",
    "Run each cell to see the code in action!"
   ]
  },
  {
   "cell_type": "markdown",
   "id": "e7b4121a",
   "metadata": {},
   "source": [
    "## Setup and Imports"
   ]
  },
  {
   "cell_type": "code",
   "execution_count": null,
   "id": "98c5e1dd",
   "metadata": {},
   "outputs": [],
   "source": [
    "import sys\n",
    "import os\n",
    "import numpy as np\n",
    "import quaternion\n",
    "import matplotlib.pyplot as plt"
   ]
  },
  {
   "cell_type": "code",
   "execution_count": null,
   "id": "7c497d21",
   "metadata": {},
   "outputs": [],
   "source": [
    "# Add the core module to the path\n",
    "sys.path.append('core')"
   ]
  },
  {
   "cell_type": "code",
   "execution_count": null,
   "id": "3cd00ad1",
   "metadata": {},
   "outputs": [],
   "source": [
    "print(\"✅ All imports successful!\")"
   ]
  },
  {
   "cell_type": "markdown",
   "id": "76296294",
   "metadata": {},
   "source": [
    "## 1. Basic Matrix Operations"
   ]
  },
  {
   "cell_type": "code",
   "execution_count": null,
   "id": "73b47bac",
   "metadata": {},
   "outputs": [],
   "source": [
    "from core.utils import quat_matmat, quat_frobenius_norm\n",
    "from core.data_gen import create_test_matrix"
   ]
  },
  {
   "cell_type": "code",
   "execution_count": null,
   "id": "4df2156a",
   "metadata": {},
   "outputs": [],
   "source": [
    "# Create test matrices\n",
    "A = create_test_matrix(3, 4)\n",
    "B = create_test_matrix(4, 2)"
   ]
  },
  {
   "cell_type": "code",
   "execution_count": null,
   "id": "26e42bf3",
   "metadata": {},
   "outputs": [],
   "source": [
    "print(\"Matrix A shape:\", A.shape)\n",
    "print(\"Matrix B shape:\", B.shape)\n",
    "print(\"Matrix A norm:\", quat_frobenius_norm(A))\n",
    "print(\"Matrix B norm:\", quat_frobenius_norm(B))"
   ]
  },
  {
   "cell_type": "code",
   "execution_count": null,
   "id": "103b35cc",
   "metadata": {},
   "outputs": [],
   "source": [
    "# Matrix multiplication\n",
    "C = quat_matmat(A, B)\n",
    "print(\"Matrix C = A @ B shape:\", C.shape)\n",
    "print(\"Matrix C norm:\", quat_frobenius_norm(C))"
   ]
  },
  {
   "cell_type": "code",
   "execution_count": null,
   "id": "e7f7d63d",
   "metadata": {},
   "outputs": [],
   "source": [
    "print(\"✅ Basic matrix operations work!\")"
   ]
  },
  {
   "cell_type": "markdown",
   "id": "4e4d2b82",
   "metadata": {},
   "source": [
    "## 2. QR Decomposition"
   ]
  },
  {
   "cell_type": "code",
   "execution_count": null,
   "id": "5d86c5ef",
   "metadata": {},
   "outputs": [],
   "source": [
    "from core.decomp.qsvd import qr_qua"
   ]
  },
  {
   "cell_type": "code",
   "execution_count": null,
   "id": "f8c95280",
   "metadata": {},
   "outputs": [],
   "source": [
    "# Create a test matrix\n",
    "X_quat = create_test_matrix(4, 3)\n",
    "print(\"Input matrix X shape:\", X_quat.shape)"
   ]
  },
  {
   "cell_type": "code",
   "execution_count": null,
   "id": "164fbced",
   "metadata": {},
   "outputs": [],
   "source": [
    "# QR decomposition\n",
    "Q, R = qr_qua(X_quat)\n",
    "print(\"Q shape:\", Q.shape)\n",
    "print(\"R shape:\", R.shape)"
   ]
  },
  {
   "cell_type": "code",
   "execution_count": null,
   "id": "1c74fdb7",
   "metadata": {},
   "outputs": [],
   "source": [
    "# Verify reconstruction\n",
    "X_recon = quat_matmat(Q, R)\n",
    "reconstruction_error = quat_frobenius_norm(X_quat - X_recon)\n",
    "print(\"Reconstruction error:\", reconstruction_error)"
   ]
  },
  {
   "cell_type": "code",
   "execution_count": null,
   "id": "43bd9555",
   "metadata": {},
   "outputs": [],
   "source": [
    "print(\"✅ QR decomposition works!\")"
   ]
  },
  {
   "cell_type": "markdown",
   "id": "88f0e3ed",
   "metadata": {},
   "source": [
    "## 3. Quaternion SVD (Q-SVD)"
   ]
  },
  {
   "cell_type": "code",
   "execution_count": null,
   "id": "185ddbc8",
   "metadata": {},
   "outputs": [],
   "source": [
    "from core.decomp.qsvd import classical_qsvd, classical_qsvd_full"
   ]
  },
  {
   "cell_type": "code",
   "execution_count": null,
   "id": "e1ff3640",
   "metadata": {},
   "outputs": [],
   "source": [
    "# Create a test matrix\n",
    "X_quat = create_test_matrix(5, 4)\n",
    "print(\"Input matrix X shape:\", X_quat.shape)"
   ]
  },
  {
   "cell_type": "code",
   "execution_count": null,
   "id": "0249e4a4",
   "metadata": {},
   "outputs": [],
   "source": [
    "# Truncated Q-SVD\n",
    "R = 2  # Target rank\n",
    "U, s, V = classical_qsvd(X_quat, R)\n",
    "print(\"Truncated Q-SVD:\")\n",
    "print(\"  U shape:\", U.shape)\n",
    "print(\"  s length:\", len(s))\n",
    "print(\"  V shape:\", V.shape)"
   ]
  },
  {
   "cell_type": "code",
   "execution_count": null,
   "id": "faa7da7c",
   "metadata": {},
   "outputs": [],
   "source": [
    "# Full Q-SVD\n",
    "U_full, s_full, V_full = classical_qsvd_full(X_quat)\n",
    "print(\"\\nFull Q-SVD:\")\n",
    "print(\"  U_full shape:\", U_full.shape)\n",
    "print(\"  s_full length:\", len(s_full))\n",
    "print(\"  V_full shape:\", V_full.shape)"
   ]
  },
  {
   "cell_type": "code",
   "execution_count": null,
   "id": "7ec25ca5",
   "metadata": {},
   "outputs": [],
   "source": [
    "print(\"✅ Q-SVD works!\")"
   ]
  },
  {
   "cell_type": "markdown",
   "id": "7666540d",
   "metadata": {},
   "source": [
    "## 4. Randomized Q-SVD"
   ]
  },
  {
   "cell_type": "code",
   "execution_count": null,
   "id": "e732e29a",
   "metadata": {},
   "outputs": [],
   "source": [
    "from core.decomp.qsvd import rand_qsvd\n",
    "from core.utils import quat_hermitian"
   ]
  },
  {
   "cell_type": "code",
   "execution_count": null,
   "id": "b49ae1b9",
   "metadata": {},
   "outputs": [],
   "source": [
    "# Create a test matrix\n",
    "X_quat = create_test_matrix(8, 6)\n",
    "print(\"Input matrix X shape:\", X_quat.shape)"
   ]
  },
  {
   "cell_type": "code",
   "execution_count": null,
   "id": "b86ff9c5",
   "metadata": {},
   "outputs": [],
   "source": [
    "# Randomized Q-SVD with different parameters\n",
    "R = 3  # Target rank\n",
    "print(f\"Target rank R = {R}\")"
   ]
  },
  {
   "cell_type": "code",
   "execution_count": null,
   "id": "0ee3e01f",
   "metadata": {},
   "outputs": [],
   "source": [
    "# Test with different power iterations\n",
    "for n_iter in [1, 2, 3]:\n",
    "    print(f\"\\nTesting with {n_iter} power iteration(s):\")\n",
    "    \n",
    "    U, s, V = rand_qsvd(X_quat, R, oversample=5, n_iter=n_iter)\n",
    "    print(f\"  U shape: {U.shape}\")\n",
    "    print(f\"  V shape: {V.shape}\")\n",
    "    print(f\"  s shape: {s.shape}\")\n",
    "    print(f\"  Singular values: {s}\")\n",
    "    \n",
    "    # Test reconstruction\n",
    "    S_diag = np.diag(s)\n",
    "    X_recon = quat_matmat(quat_matmat(U, S_diag), quat_hermitian(V))\n",
    "    reconstruction_error = quat_frobenius_norm(X_quat - X_recon)\n",
    "    relative_error = reconstruction_error / quat_frobenius_norm(X_quat)\n",
    "    print(f\"  Reconstruction error: {reconstruction_error:.6f}\")\n",
    "    print(f\"  Relative error: {relative_error:.6f}\")"
   ]
  },
  {
   "cell_type": "code",
   "execution_count": null,
   "id": "e1abee1d",
   "metadata": {},
   "outputs": [],
   "source": [
    "# Test with full rank for perfect reconstruction\n",
    "print(f\"\\nTesting with full rank (R = {min(X_quat.shape)}):\")\n",
    "U_full, s_full, V_full = rand_qsvd(X_quat, min(X_quat.shape), oversample=5, n_iter=2)\n",
    "S_full_diag = np.diag(s_full)\n",
    "X_recon_full = quat_matmat(quat_matmat(U_full, S_full_diag), quat_hermitian(V_full))\n",
    "reconstruction_error_full = quat_frobenius_norm(X_quat - X_recon_full)\n",
    "print(f\"  Full rank reconstruction error: {reconstruction_error_full:.2e}\")"
   ]
  },
  {
   "cell_type": "code",
   "execution_count": null,
   "id": "bddd621b",
   "metadata": {},
   "outputs": [],
   "source": [
    "print(\"✅ Randomized Q-SVD works!\")"
   ]
  },
  {
   "cell_type": "markdown",
   "id": "4d7f47d0",
   "metadata": {},
   "source": [
    "## 5. Eigenvalue Decomposition"
   ]
  },
  {
   "cell_type": "code",
   "execution_count": null,
   "id": "dd6639ce",
   "metadata": {},
   "outputs": [],
   "source": [
    "from core.decomp import quaternion_eigendecomposition, quaternion_eigenvalues, quaternion_eigenvectors\n",
    "from core.utils import quat_hermitian"
   ]
  },
  {
   "cell_type": "code",
   "execution_count": null,
   "id": "90ca862f",
   "metadata": {},
   "outputs": [],
   "source": [
    "# Create a Hermitian matrix A = B^H @ B\n",
    "B = create_test_matrix(4, 3)\n",
    "B_H = quat_hermitian(B)\n",
    "A_quat = quat_matmat(B_H, B)\n",
    "print(\"Hermitian matrix A shape:\", A_quat.shape)"
   ]
  },
  {
   "cell_type": "code",
   "execution_count": null,
   "id": "32bb1303",
   "metadata": {},
   "outputs": [],
   "source": [
    "# Full eigendecomposition\n",
    "eigenvalues, eigenvectors = quaternion_eigendecomposition(A_quat)\n",
    "print(\"Full eigendecomposition:\")\n",
    "print(\"  Number of eigenvalues:\", len(eigenvalues))\n",
    "print(\"  Eigenvectors shape:\", eigenvectors.shape)"
   ]
  },
  {
   "cell_type": "code",
   "execution_count": null,
   "id": "abf32a80",
   "metadata": {},
   "outputs": [],
   "source": [
    "# Extract only eigenvalues\n",
    "eigenvals = quaternion_eigenvalues(A_quat)\n",
    "print(\"\\nEigenvalues only:\", len(eigenvals))"
   ]
  },
  {
   "cell_type": "code",
   "execution_count": null,
   "id": "ea78f694",
   "metadata": {},
   "outputs": [],
   "source": [
    "# Extract only eigenvectors\n",
    "eigenvecs = quaternion_eigenvectors(A_quat)\n",
    "print(\"Eigenvectors only shape:\", eigenvecs.shape)"
   ]
  },
  {
   "cell_type": "code",
   "execution_count": null,
   "id": "ee6d2cb2",
   "metadata": {},
   "outputs": [],
   "source": [
    "# Verify eigenvalues are real\n",
    "imaginary_parts = np.imag(eigenvalues)\n",
    "max_imag = np.max(np.abs(imaginary_parts))\n",
    "print(\"Maximum imaginary part:\", max_imag)"
   ]
  },
  {
   "cell_type": "code",
   "execution_count": null,
   "id": "8eba149a",
   "metadata": {},
   "outputs": [],
   "source": [
    "print(\"✅ Eigenvalue decomposition works!\")"
   ]
  },
  {
   "cell_type": "markdown",
   "id": "4ceed003",
   "metadata": {},
   "source": [
    "## 6. Tridiagonalization"
   ]
  },
  {
   "cell_type": "code",
   "execution_count": null,
   "id": "f5b53397",
   "metadata": {},
   "outputs": [],
   "source": [
    "from core.decomp import tridiagonalize"
   ]
  },
  {
   "cell_type": "code",
   "execution_count": null,
   "id": "621e229f",
   "metadata": {},
   "outputs": [],
   "source": [
    "# Use the same Hermitian matrix from above\n",
    "print(\"Hermitian matrix A shape:\", A_quat.shape)"
   ]
  },
  {
   "cell_type": "code",
   "execution_count": null,
   "id": "f2293f4a",
   "metadata": {},
   "outputs": [],
   "source": [
    "# Tridiagonalize\n",
    "P, B_tridiag = tridiagonalize(A_quat)\n",
    "print(\"Tridiagonalization:\")\n",
    "print(\"  P shape:\", P.shape)\n",
    "print(\"  B shape:\", B_tridiag.shape)"
   ]
  },
  {
   "cell_type": "code",
   "execution_count": null,
   "id": "cb45a5f9",
   "metadata": {},
   "outputs": [],
   "source": [
    "# Verify transformation\n",
    "P_H = quat_hermitian(P)\n",
    "PAP_H = quat_matmat(quat_matmat(P, A_quat), P_H)\n",
    "transformation_error = quat_frobenius_norm(PAP_H - B_tridiag)\n",
    "print(\"  Transformation error:\", transformation_error)"
   ]
  },
  {
   "cell_type": "code",
   "execution_count": null,
   "id": "87da2d33",
   "metadata": {},
   "outputs": [],
   "source": [
    "print(\"✅ Tridiagonalization works!\")"
   ]
  },
  {
   "cell_type": "markdown",
   "id": "4be23b84",
   "metadata": {},
   "source": [
    "## 7. Pseudoinverse Computation"
   ]
  },
  {
   "cell_type": "code",
   "execution_count": null,
   "id": "58b9c21a",
   "metadata": {},
   "outputs": [],
   "source": [
    "from core.solver import NewtonSchulzPseudoinverse"
   ]
  },
  {
   "cell_type": "code",
   "execution_count": null,
   "id": "16d49f16",
   "metadata": {},
   "outputs": [],
   "source": [
    "# Create a test matrix\n",
    "A = create_test_matrix(3, 4)\n",
    "print(\"Matrix A shape:\", A.shape)"
   ]
  },
  {
   "cell_type": "code",
   "execution_count": null,
   "id": "108c8f30",
   "metadata": {},
   "outputs": [],
   "source": [
    "# Compute pseudoinverse\n",
    "solver = NewtonSchulzPseudoinverse()\n",
    "A_pinv, residuals, covariances = solver.compute(A)\n",
    "print(\"Pseudoinverse A^† shape:\", A_pinv.shape)"
   ]
  },
  {
   "cell_type": "code",
   "execution_count": null,
   "id": "b45b0d98",
   "metadata": {},
   "outputs": [],
   "source": [
    "# Verify pseudoinverse properties\n",
    "A_pinv_H = quat_hermitian(A_pinv)\n",
    "print(\"A^† shape:\", A_pinv.shape)\n",
    "print(\"A^†^† shape:\", A_pinv_H.shape)"
   ]
  },
  {
   "cell_type": "code",
   "execution_count": null,
   "id": "5a02b3cb",
   "metadata": {},
   "outputs": [],
   "source": [
    "print(\"✅ Pseudoinverse computation works!\")"
   ]
  },
  {
   "cell_type": "markdown",
   "id": "e4173840",
   "metadata": {},
   "source": [
    "## 8. Linear System Solving"
   ]
  },
  {
   "cell_type": "code",
   "execution_count": null,
   "id": "c539f945",
   "metadata": {},
   "outputs": [],
   "source": [
    "from core.solver import QGMRESSolver"
   ]
  },
  {
   "cell_type": "code",
   "execution_count": null,
   "id": "c2be8bf0",
   "metadata": {},
   "outputs": [],
   "source": [
    "# Create a square system A * x = b\n",
    "A = create_test_matrix(3, 3)\n",
    "b = create_test_matrix(3, 1)\n",
    "print(\"System A shape:\", A.shape)\n",
    "print(\"Right-hand side b shape:\", b.shape)"
   ]
  },
  {
   "cell_type": "code",
   "execution_count": null,
   "id": "ff58bbc8",
   "metadata": {},
   "outputs": [],
   "source": [
    "# Solve using Q-GMRES\n",
    "solver = QGMRESSolver()\n",
    "x, info = solver.solve(A, b)\n",
    "print(\"Solution x shape:\", x.shape)\n",
    "print(\"Convergence info:\", info)"
   ]
  },
  {
   "cell_type": "code",
   "execution_count": null,
   "id": "feedbd46",
   "metadata": {},
   "outputs": [],
   "source": [
    "# Verify solution\n",
    "Ax = quat_matmat(A, x)\n",
    "residual = quat_frobenius_norm(Ax - b)\n",
    "print(\"Residual ||A*x - b||:\", residual)"
   ]
  },
  {
   "cell_type": "code",
   "execution_count": null,
   "id": "9553cc3b",
   "metadata": {},
   "outputs": [],
   "source": [
    "print(\"✅ Linear system solving works!\")"
   ]
  },
  {
   "cell_type": "markdown",
   "id": "0dfdb423",
   "metadata": {},
   "source": [
    "## 9. Visualization"
   ]
  },
  {
   "cell_type": "code",
   "execution_count": null,
   "id": "ee5676d4",
   "metadata": {},
   "outputs": [],
   "source": [
    "from core.visualization import Visualizer"
   ]
  },
  {
   "cell_type": "code",
   "execution_count": null,
   "id": "ea6a7718",
   "metadata": {},
   "outputs": [],
   "source": [
    "# Create a test matrix\n",
    "A = create_test_matrix(4, 4)\n",
    "print(\"Matrix A shape:\", A.shape)"
   ]
  },
  {
   "cell_type": "code",
   "execution_count": null,
   "id": "bb8830c5",
   "metadata": {},
   "outputs": [],
   "source": [
    "# Plot matrix components\n",
    "Visualizer.visualize_matrix(A, component=0, title=\"Test Matrix - Real Component\")\n",
    "Visualizer.visualize_matrix(A, component=1, title=\"Test Matrix - i Component\")"
   ]
  },
  {
   "cell_type": "code",
   "execution_count": null,
   "id": "8d0ff893",
   "metadata": {},
   "outputs": [],
   "source": [
    "print(\"✅ Visualization works!\")"
   ]
  },
  {
   "cell_type": "markdown",
   "id": "a33ce148",
   "metadata": {},
   "source": [
    "## 10. Determinant and Rank Computation"
   ]
  },
  {
   "cell_type": "code",
   "execution_count": null,
   "id": "a812ec71",
   "metadata": {},
   "outputs": [],
   "source": [
    "from core.utils import det, rank\n",
    "from core.data_gen import generate_random_unitary_matrix"
   ]
  },
  {
   "cell_type": "code",
   "execution_count": null,
   "id": "6781e5f8",
   "metadata": {},
   "outputs": [],
   "source": [
    "print(\"\\n\" + \"=\"*60)\n",
    "print(\"DETERMINANT AND RANK COMPUTATION DEMONSTRATIONS\")\n",
    "print(\"=\"*60)"
   ]
  },
  {
   "cell_type": "markdown",
   "id": "c3765474",
   "metadata": {},
   "source": [
    "### 10.1 Determinant Demo: Unitary Matrix with Known Determinant"
   ]
  },
  {
   "cell_type": "code",
   "execution_count": null,
   "id": "79fcb62f",
   "metadata": {},
   "outputs": [],
   "source": [
    "print(\"\\n--- Determinant Demo: Unitary Matrix ---\")"
   ]
  },
  {
   "cell_type": "code",
   "execution_count": null,
   "id": "062218e4",
   "metadata": {},
   "outputs": [],
   "source": [
    "# Generate a random unitary matrix (determinant should be 1)\n",
    "n = 4\n",
    "U = generate_random_unitary_matrix(n)\n",
    "print(f\"Generated unitary matrix U of size {n}×{n}\")"
   ]
  },
  {
   "cell_type": "code",
   "execution_count": null,
   "id": "050ce094",
   "metadata": {},
   "outputs": [],
   "source": [
    "# Compute Dieudonné determinant\n",
    "det_dieudonne = det(U, 'Dieudonne')\n",
    "print(f\"Dieudonné determinant: {det_dieudonne:.6f}\")"
   ]
  },
  {
   "cell_type": "code",
   "execution_count": null,
   "id": "87744575",
   "metadata": {},
   "outputs": [],
   "source": [
    "# Expected determinant for unitary matrix should be close to 1\n",
    "expected_det = 1.0\n",
    "error = abs(det_dieudonne - expected_det)\n",
    "print(f\"Expected determinant: {expected_det}\")\n",
    "print(f\"Absolute error: {error:.2e}\")"
   ]
  },
  {
   "cell_type": "code",
   "execution_count": null,
   "id": "74e3b4ae",
   "metadata": {},
   "outputs": [],
   "source": [
    "if error < 1e-10:\n",
    "    print(\"✅ Determinant computation works correctly!\")\n",
    "else:\n",
    "    print(\"❌ Determinant computation has issues!\")"
   ]
  },
  {
   "cell_type": "markdown",
   "id": "d9c54d08",
   "metadata": {},
   "source": [
    "### 10.2 Rank Demo: Matrix Product with Known Rank"
   ]
  },
  {
   "cell_type": "code",
   "execution_count": null,
   "id": "9963e0a9",
   "metadata": {},
   "outputs": [],
   "source": [
    "print(\"\\n--- Rank Demo: Matrix Product ---\")"
   ]
  },
  {
   "cell_type": "code",
   "execution_count": null,
   "id": "a4d26fa1",
   "metadata": {},
   "outputs": [],
   "source": [
    "# Create matrices A (m×r) and B (r×n) with known rank r\n",
    "m, r, n = 5, 3, 4\n",
    "A = create_test_matrix(m, r)\n",
    "B = create_test_matrix(r, n)\n",
    "print(f\"Matrix A: {m}×{r}\")\n",
    "print(f\"Matrix B: {r}×{n}\")"
   ]
  },
  {
   "cell_type": "code",
   "execution_count": null,
   "id": "dd8722dd",
   "metadata": {},
   "outputs": [],
   "source": [
    "# Compute product C = A @ B\n",
    "C = quat_matmat(A, B)\n",
    "print(f\"Matrix C = A @ B: {C.shape}\")"
   ]
  },
  {
   "cell_type": "code",
   "execution_count": null,
   "id": "b18ac402",
   "metadata": {},
   "outputs": [],
   "source": [
    "# Compute rank of C\n",
    "computed_rank = rank(C)\n",
    "expected_rank = r\n",
    "print(f\"Computed rank of C: {computed_rank}\")\n",
    "print(f\"Expected rank: {expected_rank}\")"
   ]
  },
  {
   "cell_type": "code",
   "execution_count": null,
   "id": "cb5b7d87",
   "metadata": {},
   "outputs": [],
   "source": [
    "if computed_rank == expected_rank:\n",
    "    print(\"✅ Rank computation works correctly!\")\n",
    "else:\n",
    "    print(\"❌ Rank computation has issues!\")"
   ]
  },
  {
   "cell_type": "markdown",
   "id": "d211a739",
   "metadata": {},
   "source": [
    "### 10.3 Additional Rank Examples"
   ]
  },
  {
   "cell_type": "code",
   "execution_count": null,
   "id": "0e8ea026",
   "metadata": {},
   "outputs": [],
   "source": [
    "print(\"\\n--- Additional Rank Examples ---\")"
   ]
  },
  {
   "cell_type": "code",
   "execution_count": null,
   "id": "5cf415df",
   "metadata": {},
   "outputs": [],
   "source": [
    "# Test full-rank matrix\n",
    "full_rank_matrix = create_test_matrix(4, 4)\n",
    "full_rank = rank(full_rank_matrix)\n",
    "print(f\"Full-rank 4×4 matrix: rank = {full_rank} (expected: 4)\")"
   ]
  },
  {
   "cell_type": "code",
   "execution_count": null,
   "id": "5279edfe",
   "metadata": {},
   "outputs": [],
   "source": [
    "# Test zero matrix\n",
    "zero_matrix = np.zeros((3, 3), dtype=np.quaternion)\n",
    "zero_rank = rank(zero_matrix)\n",
    "print(f\"Zero 3×3 matrix: rank = {zero_rank} (expected: 0)\")"
   ]
  },
  {
   "cell_type": "code",
   "execution_count": null,
   "id": "0645d454",
   "metadata": {},
   "outputs": [],
   "source": [
    "# Test identity matrix\n",
    "identity_matrix = np.eye(5, dtype=np.quaternion)\n",
    "identity_rank = rank(identity_matrix)\n",
    "print(f\"Identity 5×5 matrix: rank = {identity_rank} (expected: 5)\")"
   ]
  },
  {
   "cell_type": "code",
   "execution_count": null,
   "id": "e28d7dd5",
   "metadata": {},
   "outputs": [],
   "source": [
    "print(\"✅ All rank examples work correctly!\")"
   ]
  },
  {
   "cell_type": "markdown",
   "id": "37a64274",
   "metadata": {},
   "source": [
    "## Summary"
   ]
  },
  {
   "cell_type": "code",
   "execution_count": null,
   "id": "b8e0c7af",
   "metadata": {},
   "outputs": [],
   "source": [
    "print(\"🎉 ALL CORE FUNCTIONALITY TESTS COMPLETED SUCCESSFULLY!\")\n",
    "print(\"\\n✅ Basic matrix operations\")\n",
    "print(\"✅ QR decomposition\")\n",
    "print(\"✅ Quaternion SVD (Q-SVD)\")\n",
    "print(\"✅ Randomized Q-SVD\")\n",
    "print(\"✅ Eigenvalue decomposition\")\n",
    "print(\"✅ Tridiagonalization\")\n",
    "print(\"✅ Pseudoinverse computation\")\n",
    "print(\"✅ Linear system solving\")\n",
    "print(\"✅ Visualization\")\n",
    "print(\"✅ Determinant computation\")\n",
    "print(\"✅ Rank computation\")\n",
    "print(\"\\nThe code examples in the README are working correctly! 🚀\") "
   ]
  }
 ],
 "metadata": {
  "jupytext": {
   "encoding": "# -*- coding: utf-8 -*-"
  },
  "kernelspec": {
   "display_name": "venv",
   "language": "python",
   "name": "python3"
  },
  "language_info": {
   "name": "python",
   "version": "3.13.5"
  }
 },
 "nbformat": 4,
 "nbformat_minor": 5
}
